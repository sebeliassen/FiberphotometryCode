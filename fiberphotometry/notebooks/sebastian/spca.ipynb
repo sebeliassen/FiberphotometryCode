{
 "cells": [
  {
   "cell_type": "code",
   "execution_count": 4,
   "metadata": {},
   "outputs": [
    {
     "name": "stdout",
     "output_type": "stream",
     "text": [
      "The autoreload extension is already loaded. To reload it, use:\n",
      "  %reload_ext autoreload\n"
     ]
    }
   ],
   "source": [
    "%load_ext autoreload\n",
    "%autoreload 2\n",
    "\n",
    "import sys\n",
    "sys.path.append('../')\n",
    "\n",
    "from main import load_and_prepare_sessions\n",
    "from processing.session_sampling import MiceAnalysis\n",
    "from analysis.timepoint_analysis import sample_signals_and_metrics, sample_low_and_high_signals\n",
    "from config import all_brain_regions, all_event_types, all_metrics\n",
    "from itertools import product\n",
    "import numpy as np\n",
    "from utils import mouse_br_events_count\n",
    "\n",
    "from analysis.spca import SupervisedPCAClassifier\n",
    "import matplotlib.pyplot as plt\n",
    "\n",
    "window_size = 5\n",
    "window = np.ones(window_size) / window_size\n",
    "\n",
    "sessions = load_and_prepare_sessions(\"../../Baseline\", load_from_pickle=True, remove_bad_signal_sessions=True)\n",
    "mouse_analyser = MiceAnalysis(sessions)"
   ]
  },
  {
   "cell_type": "code",
   "execution_count": 5,
   "metadata": {},
   "outputs": [],
   "source": [
    "# generate all aggregated signals\n",
    "all_event_signals = []\n",
    "labels = []\n",
    "\n",
    "for mouse in mouse_analyser.mice_dict.values():\n",
    "    mouse_sessions = mouse.sessions\n",
    "    for brain_region, event in product(all_brain_regions, all_event_types):\n",
    "        if mouse_br_events_count(mouse, brain_region, event) < 15:\n",
    "            continue\n",
    "        # if brain_region != 'VS':\n",
    "        #     continue\n",
    "        if event != 'hit':\n",
    "            continue\n",
    "        # if brain_region == 'cor_reject':\n",
    "        #     continue\n",
    "        mouse_signals = [] \n",
    "        for session in mouse_sessions:\n",
    "            if session.signal_info.get((brain_region, event)) is None:\n",
    "                continue\n",
    "            signals = sample_signals_and_metrics([session], event, brain_region)[0]\n",
    "            signals = np.array([np.convolve(signal, window, mode='same') for signal in signals])\n",
    "            mouse_signals.append(signals[:, 150:250])\n",
    "        if len(mouse_signals) == 0:\n",
    "            continue\n",
    "        mouse_signals = np.vstack(mouse_signals)\n",
    "        sample_idxs = np.random.choice(len(mouse_signals), 100, replace=True)\n",
    "        mouse_signals = mouse_signals[sample_idxs]\n",
    "\n",
    "        # Cumulative events data for the current metric\n",
    "        part_value = mouse.metric_container.data['participation']\n",
    "        # if len(mouse_signals) > 5:\n",
    "        #     for i in range(5):\n",
    "        #         all_event_signals.append(np.mean(mouse_signals[i::5], axis=0))\n",
    "        #         labels.append((mouse.mouse_id, brain_region, event, part_value))\n",
    "        all_event_signals.append(mouse_signals)\n",
    "        labels.extend([(mouse.mouse_id, brain_region, event, part_value)] * len(mouse_signals))\n",
    "\n",
    "all_event_signals = np.array(all_event_signals)\n",
    "all_event_signals = np.vstack(all_event_signals)"
   ]
  },
  {
   "cell_type": "code",
   "execution_count": 10,
   "metadata": {},
   "outputs": [
    {
     "name": "stderr",
     "output_type": "stream",
     "text": [
      "/Users/sebeliassen/opt/anaconda3/envs/SUND/lib/python3.11/site-packages/sklearn/preprocessing/_encoders.py:868: FutureWarning: `sparse` was renamed to `sparse_output` in version 1.2 and will be removed in 1.4. `sparse_output` is ignored unless you leave `sparse` to its default value.\n",
      "  warnings.warn(\n"
     ]
    },
    {
     "data": {
      "text/plain": [
       "array([[0., 1., 0.],\n",
       "       [0., 1., 0.],\n",
       "       [0., 1., 0.],\n",
       "       ...,\n",
       "       [1., 0., 0.],\n",
       "       [1., 0., 0.],\n",
       "       [1., 0., 0.]])"
      ]
     },
     "execution_count": 10,
     "metadata": {},
     "output_type": "execute_result"
    }
   ],
   "source": [
    "from sklearn.preprocessing import OneHotEncoder\n",
    "\n",
    "brain_reg_labels = [t[1] for t in labels]\n",
    "encoder = OneHotEncoder(sparse=False)\n",
    "one_hot_encoded = encoder.fit_transform(np.array(brain_reg_labels).reshape(-1, 1))\n",
    "one_hot_encoded"
   ]
  },
  {
   "cell_type": "code",
   "execution_count": 6,
   "metadata": {},
   "outputs": [
    {
     "data": {
      "text/plain": [
       "(2700, 100)"
      ]
     },
     "execution_count": 6,
     "metadata": {},
     "output_type": "execute_result"
    }
   ],
   "source": [
    "all_event_signals.shape"
   ]
  },
  {
   "cell_type": "code",
   "execution_count": null,
   "metadata": {},
   "outputs": [],
   "source": [
    "pca = SupervisedPCAClassifier(n_components=2)\n",
    "signals_embedded = pca.fit_transform(all_event_signals)"
   ]
  },
  {
   "cell_type": "code",
   "execution_count": null,
   "metadata": {},
   "outputs": [],
   "source": [
    "import matplotlib.pyplot as plt\n",
    "import numpy as np\n",
    "\n",
    "# Define mappings\n",
    "colors = {'hit': 'green', \n",
    "        'reward_collect': \n",
    "        'purple', 'mistake': \n",
    "        'red', 'miss':'orange', \n",
    "        'cor_reject':'blue'}\n",
    "\n",
    "shapes = {'DMS': 'o', 'DLS': 's', 'VS': 'o'}\n",
    "\n",
    "brain_reg_to_color = {'VS': 'purple',\n",
    "                      'DMS': 'forestgreen',\n",
    "                      'DLS': 'C0'}\n",
    "\n",
    "max_participation = max([label[-1] for label in labels])\n",
    "labels = [(label[0], label[1], label[2], label[3] / max_participation) for label in labels]\n",
    "\n",
    "plt.figure(figsize=(10, 6))\n",
    "\n",
    "# Iterate over each point to plot\n",
    "for point, label in zip(signals_embedded, labels):\n",
    "    color = colors[label[2]]\n",
    "    # color = brain_reg_to_color[label[1]]\n",
    "    shape = shapes[label[1]]\n",
    "    plt.scatter(point[0], point[1], c=color, marker=shape, s=np.exp(label[-1])*10)\n",
    "\n",
    "# Create custom legends\n",
    "from matplotlib.lines import Line2D\n",
    "color_legend = [Line2D([0], [0], marker='o', color='w', label=key, \n",
    "                    markerfacecolor=val, markersize=10) for key, val in colors.items()]\n",
    "\n",
    "# Display legends\n",
    "plt.legend(handles=color_legend, bbox_to_anchor=(1.05, 1), loc='upper left')\n",
    "\n",
    "plt.xlabel('t-SNE 1')\n",
    "plt.ylabel('t-SNE 2')\n",
    "plt.title(f't-SNE visualization with Custom Colors and Shapes ({brain_region})')\n",
    "plt.show()"
   ]
  },
  {
   "cell_type": "code",
   "execution_count": null,
   "metadata": {},
   "outputs": [],
   "source": []
  }
 ],
 "metadata": {
  "kernelspec": {
   "display_name": "SUND",
   "language": "python",
   "name": "python3"
  },
  "language_info": {
   "codemirror_mode": {
    "name": "ipython",
    "version": 3
   },
   "file_extension": ".py",
   "mimetype": "text/x-python",
   "name": "python",
   "nbconvert_exporter": "python",
   "pygments_lexer": "ipython3",
   "version": "3.11.5"
  }
 },
 "nbformat": 4,
 "nbformat_minor": 2
}
