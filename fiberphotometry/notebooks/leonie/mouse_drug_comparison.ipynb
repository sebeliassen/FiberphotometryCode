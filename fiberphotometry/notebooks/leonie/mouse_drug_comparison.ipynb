{
 "cells": [
  {
   "cell_type": "code",
   "execution_count": 1,
   "metadata": {},
   "outputs": [
    {
     "name": "stdout",
     "output_type": "stream",
     "text": [
      "Intel MKL WARNING: Support of Intel(R) Streaming SIMD Extensions 4.2 (Intel(R) SSE4.2) enabled only processors has been deprecated. Intel oneAPI Math Kernel Library 2025.0 will require Intel(R) Advanced Vector Extensions (Intel(R) AVX) instructions.\n",
      "Intel MKL WARNING: Support of Intel(R) Streaming SIMD Extensions 4.2 (Intel(R) SSE4.2) enabled only processors has been deprecated. Intel oneAPI Math Kernel Library 2025.0 will require Intel(R) Advanced Vector Extensions (Intel(R) AVX) instructions.\n"
     ]
    }
   ],
   "source": [
    "%load_ext autoreload\n",
    "%autoreload 2\n",
    "\n",
    "import sys\n",
    "sys.path.append('../')\n",
    "\n",
    "from main import load_and_prepare_sessions\n",
    "from processing.session_sampling import MiceAnalysis\n",
    "from config import attr_interval_dict, all_metrics, all_brain_regions, all_event_types\n",
    "from analysis.timepoint_analysis import sample_low_and_high_signals\n",
    "from plotting.main_plotting import plot_signals\n",
    "from data.mouse import create_mice_dict\n",
    "\n",
    "\n",
    "# sessions = load_and_prepare_sessions(\"../../Baseline\", load_from_pickle=True, remove_bad_signal_sessions=True)\n",
    "sessions = load_and_prepare_sessions(\"../../Gq-DREADD_CPT_Habituation\", load_from_pickle=True, remove_bad_signal_sessions=True)\n",
    "mouse_analyser = MiceAnalysis(sessions)"
   ]
  },
  {
   "cell_type": "code",
   "execution_count": 2,
   "metadata": {},
   "outputs": [],
   "source": [
    "mice_dict = create_mice_dict(sessions)"
   ]
  },
  {
   "cell_type": "code",
   "execution_count": null,
   "metadata": {},
   "outputs": [],
   "source": [
    "import itertools\n",
    "import numpy as np\n",
    "from scipy.stats import ttest_ind\n",
    "from utils import mouse_br_events_count\n",
    "\n",
    "brain_reg_to_color = {'LH': 'orange',\n",
    "                      'mPFC': 'paleturquoise'}\n",
    "# brain_reg_to_color = {'VS': 'purple',\n",
    "#                       'DMS': 'forestgreen',\n",
    "#                       'DLS': 'C0'}\n",
    "\n",
    "# Assuming config.all_metrics, config.all_brain_regions, and config.all_events are all iterable\n",
    "for performance_metric, brain_region, event in itertools.product(all_metrics, all_brain_regions, all_event_types):\n",
    "    low_signals, high_signals, low_resp_metrics, high_resp_metrics, resp_metric_names = \\\n",
    "        sample_low_and_high_signals('events', performance_metric, brain_region, event, mouse_analyser, n=1000)\n",
    "\n",
    "    sb = attr_interval_dict[event]\n",
    "\n",
    "    scatters = [np.zeros((2, 100)), np.zeros((2, 100))]\n",
    "    resp_metric_infos = []\n",
    "    is_significant_p_vals = []\n",
    "\n",
    "\n",
    "    low_sample_idxs = np.random.choice(len(low_resp_metrics), size=100, replace=True)\n",
    "    high_sample_idxs = np.random.choice(len(high_resp_metrics), size=100, replace=True)\n",
    "    for col_idx, resp_metric_name in resp_metric_names.items():\n",
    "        low_resp_metric = low_resp_metrics[:, col_idx]\n",
    "        high_resp_metric = high_resp_metrics[:, col_idx]\n",
    "\n",
    "        if resp_metric_name == 'peak_timing':\n",
    "            scatters[0][0] = (low_resp_metric + attr_interval_dict[event][0])[low_sample_idxs]\n",
    "            scatters[1][0] = (high_resp_metric + attr_interval_dict[event][0])[high_sample_idxs]\n",
    "        elif resp_metric_name == 'maximal_value':\n",
    "            scatters[0][1] = low_resp_metric[low_sample_idxs]\n",
    "            scatters[1][1] = high_resp_metric[high_sample_idxs]\n",
    "\n",
    "        t_stat, p_value = ttest_ind(low_resp_metric, high_resp_metric, nan_policy='omit')\n",
    "        resp_metric_infos.append(f\"            {resp_metric_name}: t-stat: {t_stat:.3f},  p-value: {p_value:.3e}\")\n",
    "        is_significant_p_vals.append(p_value <= 1/3000)\n",
    "    #     if p_value > 1/3000:\n",
    "    #         continue\n",
    "    # if not any(is_significant_p_vals):\n",
    "    #     continue\n",
    "\n",
    "    suptitle = f\"brain regions: {brain_region},  metric: {performance_metric},  event type: {event} ({low_signals.shape[0]})\\nresponse metrics: \"\n",
    "    for resp_metric_info in resp_metric_infos:\n",
    "        suptitle += f\"\\n{resp_metric_info}\"\n",
    "\n",
    "    low_subtitle = f\"lower 3 mice\"\n",
    "    high_subtitle = f\"upper 3 mice\"\n",
    "\n",
    "    color = brain_reg_to_color[brain_region]\n",
    "    plot_signals([low_signals, high_signals], [low_subtitle, high_subtitle], suptitle, color, \n",
    "                    5, sb, scatters=scatters)#, fname=f'{performance_metric}_{brain_region}_{event}.png')"
   ]
  },
  {
   "cell_type": "code",
   "execution_count": null,
   "metadata": {},
   "outputs": [],
   "source": []
  }
 ],
 "metadata": {
  "kernelspec": {
   "display_name": "SUND",
   "language": "python",
   "name": "python3"
  },
  "language_info": {
   "codemirror_mode": {
    "name": "ipython",
    "version": 3
   },
   "file_extension": ".py",
   "mimetype": "text/x-python",
   "name": "python",
   "nbconvert_exporter": "python",
   "pygments_lexer": "ipython3",
   "version": "3.11.5"
  }
 },
 "nbformat": 4,
 "nbformat_minor": 2
}
