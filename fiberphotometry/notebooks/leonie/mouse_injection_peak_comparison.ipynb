{
 "cells": [
  {
   "cell_type": "code",
   "execution_count": 1,
   "metadata": {},
   "outputs": [],
   "source": [
    "%load_ext autoreload\n",
    "%autoreload 2\n",
    "\n",
    "import sys\n",
    "sys.path.append('../../')\n",
    "\n",
    "from main import load_and_prepare_sessions\n",
    "from analysis.timepoint_analysis import find_drug_split_x\n",
    "\n",
    "import numpy as np\n",
    "import config\n",
    "from collections import defaultdict\n",
    "\n",
    "sessions_cpt = load_and_prepare_sessions(\"../../../trial_Gq-DREADD_CPT\", load_from_pickle=True, remove_bad_signal_sessions=True)\n",
    "sessions_hab = load_and_prepare_sessions(\"../../../Gq-DREADD_CPT_Habituation\", load_from_pickle=True, remove_bad_signal_sessions=True)"
   ]
  },
  {
   "cell_type": "code",
   "execution_count": 2,
   "metadata": {},
   "outputs": [],
   "source": [
    "mouse_cpt_peaks = defaultdict(list)\n",
    "mouse_hab_peaks = defaultdict(list)\n",
    "\n",
    "for session in sessions_cpt:\n",
    "    if session.drug_info['name'] != 'Vehicle':\n",
    "        continue\n",
    "\n",
    "    for br in session.brain_regions:\n",
    "        mouse_cpt_peaks[session.mouse_id].\\\n",
    "            append(find_drug_split_x(session, br, find_relative_peak=True) + (br, ))\n",
    "        \n",
    "\n",
    "for session in sessions_hab:\n",
    "    if session.mouse_id not in mouse_cpt_peaks.keys():\n",
    "        continue\n",
    "    for br in session.brain_regions:\n",
    "        mouse_hab_peaks[session.mouse_id].\\\n",
    "            append(find_drug_split_x(session, br, find_relative_peak=True) + (br, ))"
   ]
  },
  {
   "cell_type": "code",
   "execution_count": 3,
   "metadata": {},
   "outputs": [],
   "source": [
    "import pandas as pd\n",
    "from collections import defaultdict\n",
    "\n",
    "def dict_to_dataframe(data_dict, peak_type):\n",
    "    df_list = []\n",
    "    for mouse_id, entries in data_dict.items():\n",
    "        for minutes, zf_score, brain_region in entries:\n",
    "            df_list.append({\n",
    "                'mouse_id': mouse_id,\n",
    "                'minutes from cpt start': minutes,\n",
    "                'zf-score': zf_score,\n",
    "                'brain_region': brain_region,\n",
    "                'type': peak_type\n",
    "            })\n",
    "    return pd.DataFrame(df_list)\n",
    "\n",
    "# Convert both dicts to DataFrames and add the type\n",
    "cpt_df = dict_to_dataframe(mouse_cpt_peaks, 'cpt')\n",
    "hab_df = dict_to_dataframe(mouse_hab_peaks, 'hab')\n",
    "\n",
    "# Combine both DataFrames\n",
    "combined_df = pd.concat([cpt_df, hab_df])\n",
    "\n",
    "# Set the MultiIndex with 'type' as the outermost, then 'mouse_id' and 'brain_region'\n",
    "combined_df.set_index(['type', 'mouse_id', 'brain_region'], inplace=True)\n",
    "\n",
    "# Save to Excel\n",
    "combined_df.to_excel('mouse_peaks_2.xlsx')"
   ]
  },
  {
   "cell_type": "code",
   "execution_count": null,
   "metadata": {},
   "outputs": [],
   "source": []
  }
 ],
 "metadata": {
  "kernelspec": {
   "display_name": "sund",
   "language": "python",
   "name": "python3"
  },
  "language_info": {
   "codemirror_mode": {
    "name": "ipython",
    "version": 3
   },
   "file_extension": ".py",
   "mimetype": "text/x-python",
   "name": "python",
   "nbconvert_exporter": "python",
   "pygments_lexer": "ipython3",
   "version": "3.11.8"
  }
 },
 "nbformat": 4,
 "nbformat_minor": 2
}
