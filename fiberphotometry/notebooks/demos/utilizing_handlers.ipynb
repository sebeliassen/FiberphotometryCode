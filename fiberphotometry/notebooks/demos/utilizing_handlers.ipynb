{
 "cells": [
  {
   "cell_type": "code",
   "execution_count": 2,
   "id": "7978b604",
   "metadata": {},
   "outputs": [],
   "source": [
    "import sys\n",
    "sys.path.append('../../../')"
   ]
  },
  {
   "cell_type": "code",
   "execution_count": 3,
   "id": "93b4514a",
   "metadata": {},
   "outputs": [],
   "source": [
    "import warnings\n",
    "import pytest\n",
    "from pathlib import Path\n",
    "from collections import defaultdict\n",
    "\n",
    "from fiberphotometry.config import PLOTTING_CONFIG\n",
    "from fiberphotometry.data.data_loading import DataContainer, load_all_sessions\n",
    "from fiberphotometry.data.session_loading import populate_containers\n",
    "from fiberphotometry.data.syncer import sync_session\n",
    "from fiberphotometry.data.timepoint_processing import create_event_idxs_container_for_sessions\n",
    "from fiberphotometry.processing.plotting_setup import PlottingSetup\n",
    "from fiberphotometry.processing.signal_info_setup import assign_sessions_signal_info"
   ]
  },
  {
   "cell_type": "code",
   "execution_count": 4,
   "id": "8761c454",
   "metadata": {},
   "outputs": [],
   "source": [
    "baseline_path = Path(\"/Users/fsp585/Desktop/GetherLabCode/FiberphotometryCode/src/RewardDelay\")"
   ]
  },
  {
   "cell_type": "code",
   "execution_count": 6,
   "id": "4078d921",
   "metadata": {},
   "outputs": [
    {
     "name": "stderr",
     "output_type": "stream",
     "text": [
      "Processing trial directories: 100%|██████████| 10/10 [00:00<00:00, 57.58it/s]\n"
     ]
    }
   ],
   "source": [
    "sessions = load_all_sessions(\n",
    "            baseline_dir=str(baseline_path),\n",
    "            session_type=\"cpt\",\n",
    "            first_n_dirs=10,\n",
    "            remove_bad_signal_sessions=True\n",
    "        );"
   ]
  },
  {
   "cell_type": "code",
   "execution_count": 7,
   "id": "b3aa67a2",
   "metadata": {},
   "outputs": [
    {
     "name": "stdout",
     "output_type": "stream",
     "text": [
      "/Users/fsp585/Desktop/GetherLabCode/FiberphotometryCode/src/RewardDelay/T1_23.25.e.e 23\n",
      "/Users/fsp585/Desktop/GetherLabCode/FiberphotometryCode/src/RewardDelay/T1_23.25.e.e 25\n",
      "/Users/fsp585/Desktop/GetherLabCode/FiberphotometryCode/src/RewardDelay/T2_31.33.35.37 31\n",
      "/Users/fsp585/Desktop/GetherLabCode/FiberphotometryCode/src/RewardDelay/T2_31.33.35.37 33\n",
      "/Users/fsp585/Desktop/GetherLabCode/FiberphotometryCode/src/RewardDelay/T2_31.33.35.37 35\n",
      "/Users/fsp585/Desktop/GetherLabCode/FiberphotometryCode/src/RewardDelay/T2_31.33.35.37 37\n",
      "/Users/fsp585/Desktop/GetherLabCode/FiberphotometryCode/src/RewardDelay/T3_e.41.43.45 43\n",
      "/Users/fsp585/Desktop/GetherLabCode/FiberphotometryCode/src/RewardDelay/T4_47.49.51.53 47\n",
      "/Users/fsp585/Desktop/GetherLabCode/FiberphotometryCode/src/RewardDelay/T4_47.49.51.53 49\n",
      "/Users/fsp585/Desktop/GetherLabCode/FiberphotometryCode/src/RewardDelay/T4_47.49.51.53 51\n",
      "/Users/fsp585/Desktop/GetherLabCode/FiberphotometryCode/src/RewardDelay/T5_55.57.61.e 55\n",
      "/Users/fsp585/Desktop/GetherLabCode/FiberphotometryCode/src/RewardDelay/T5_55.57.61.e 57\n",
      "/Users/fsp585/Desktop/GetherLabCode/FiberphotometryCode/src/RewardDelay/T6_63.65.67.e 63\n",
      "/Users/fsp585/Desktop/GetherLabCode/FiberphotometryCode/src/RewardDelay/T6_63.65.67.e 65\n",
      "/Users/fsp585/Desktop/GetherLabCode/FiberphotometryCode/src/RewardDelay/T6_63.65.67.e 67\n",
      "/Users/fsp585/Desktop/GetherLabCode/FiberphotometryCode/src/RewardDelay/T7_23.25.e.e 23\n",
      "/Users/fsp585/Desktop/GetherLabCode/FiberphotometryCode/src/RewardDelay/T7_23.25.e.e 25\n",
      "/Users/fsp585/Desktop/GetherLabCode/FiberphotometryCode/src/RewardDelay/T8_31.33.35.37 31\n",
      "/Users/fsp585/Desktop/GetherLabCode/FiberphotometryCode/src/RewardDelay/T8_31.33.35.37 33\n",
      "/Users/fsp585/Desktop/GetherLabCode/FiberphotometryCode/src/RewardDelay/T8_31.33.35.37 35\n",
      "/Users/fsp585/Desktop/GetherLabCode/FiberphotometryCode/src/RewardDelay/T10_47.49.51.53 47\n",
      "/Users/fsp585/Desktop/GetherLabCode/FiberphotometryCode/src/RewardDelay/T10_47.49.51.53 49\n",
      "/Users/fsp585/Desktop/GetherLabCode/FiberphotometryCode/src/RewardDelay/T10_47.49.51.53 51\n",
      "/Users/fsp585/Desktop/GetherLabCode/FiberphotometryCode/src/RewardDelay/T10_47.49.51.53 53\n"
     ]
    }
   ],
   "source": [
    "for s in sessions:\n",
    "    print(s.trial_dir, s.mouse_id)"
   ]
  },
  {
   "cell_type": "code",
   "execution_count": 8,
   "id": "dfb4d539",
   "metadata": {},
   "outputs": [],
   "source": [
    "populate_containers(sessions)"
   ]
  },
  {
   "cell_type": "code",
   "execution_count": 9,
   "id": "a6cb4bb6",
   "metadata": {},
   "outputs": [
    {
     "name": "stdout",
     "output_type": "stream",
     "text": [
      "Truncating 'phot_470': removed 1 rows\n",
      "Truncating 'phot_470': removed 1 rows\n",
      "Truncating 'phot_470': removed 1 rows\n",
      "Truncating 'phot_470': removed 1 rows\n",
      "Truncating 'phot_470': removed 1 rows\n",
      "Truncating 'phot_470': removed 1 rows\n",
      "Truncating 'phot_470': removed 1 rows\n",
      "Truncating 'phot_470': removed 1 rows\n"
     ]
    }
   ],
   "source": [
    "for session in sessions:\n",
    "    sync_session(session)"
   ]
  },
  {
   "cell_type": "code",
   "execution_count": 10,
   "id": "09a63f69",
   "metadata": {},
   "outputs": [],
   "source": [
    "actions_attr_dict = {\"Hit\": \"hit\",\n",
    "                    \"Mistake\": \"mistake\", \n",
    "                    \"Missed Hit\": \"miss\",                    \n",
    "                    \"Correction Trial Correct Rejection\": \"cor_reject\", \n",
    "                    \"Correct Rejection\": \"cor_reject\"}\n",
    "\n",
    "reward_attr_dict = {\"Reward Collected Start ITI\": \"reward_collect\"}"
   ]
  },
  {
   "cell_type": "code",
   "execution_count": 11,
   "id": "9ea0900b",
   "metadata": {},
   "outputs": [],
   "source": [
    "create_event_idxs_container_for_sessions(sessions, actions_attr_dict, reward_attr_dict)"
   ]
  },
  {
   "cell_type": "code",
   "execution_count": 17,
   "id": "c88cd1d8",
   "metadata": {},
   "outputs": [],
   "source": [
    "PLOTTING_CONFIG['cpt']['trial_length'] = 18"
   ]
  },
  {
   "cell_type": "code",
   "execution_count": 18,
   "id": "a1eeefd8",
   "metadata": {},
   "outputs": [],
   "source": [
    "PlottingSetup(**PLOTTING_CONFIG['cpt']).apply_plotting_setup_to_sessions(sessions)"
   ]
  },
  {
   "cell_type": "code",
   "execution_count": 19,
   "id": "edd20be6",
   "metadata": {},
   "outputs": [],
   "source": [
    "assign_sessions_signal_info(sessions)"
   ]
  },
  {
   "cell_type": "code",
   "execution_count": 20,
   "id": "5e0eeb74",
   "metadata": {},
   "outputs": [],
   "source": [
    "s0 = sessions[0]"
   ]
  },
  {
   "cell_type": "code",
   "execution_count": 21,
   "id": "ff25c640",
   "metadata": {},
   "outputs": [
    {
     "name": "stdout",
     "output_type": "stream",
     "text": [
      "('DLS', 'G', 'iti_touch') (7, 400)\n",
      "('DLS', 'G', 'dispimg') (314, 400)\n",
      "('DLS', 'G', 'hit') (60, 400)\n",
      "('DLS', 'G', 'mistake') (2, 400)\n",
      "('DLS', 'G', 'miss') (44, 400)\n",
      "('DLS', 'G', 'cor_reject') (208, 400)\n",
      "('DLS', 'G', 'hit_rd4') (20, 400)\n",
      "('DLS', 'G', 'hit_rd0') (20, 400)\n",
      "('DLS', 'G', 'hit_rd2') (20, 400)\n",
      "('DLS', 'G', 'reward_collect_rd4') (20, 400)\n",
      "('DLS', 'G', 'reward_collect_rd0') (20, 400)\n",
      "('DLS', 'G', 'reward_collect_rd2') (20, 400)\n",
      "('DLS', 'G', 'before_dispimg_cor_reject') (208, 400)\n",
      "('DLS', 'G', 'before_dispimg_hit') (60, 400)\n",
      "('DLS', 'G', 'before_dispimg_hit_rd4') (20, 400)\n",
      "('DLS', 'G', 'before_dispimg_miss') (44, 400)\n",
      "('DLS', 'G', 'before_dispimg_hit_rd0') (20, 400)\n",
      "('DLS', 'G', 'before_dispimg_mistake') (2, 400)\n",
      "('DLS', 'G', 'before_dispimg_hit_rd2') (20, 400)\n",
      "('DLS', 'G', 'after_dispimg_cor_reject') (207, 400)\n",
      "('DLS', 'G', 'after_dispimg_hit') (60, 400)\n",
      "('DLS', 'G', 'after_dispimg_hit_rd4') (20, 400)\n",
      "('DLS', 'G', 'after_dispimg_miss') (44, 400)\n",
      "('DLS', 'G', 'after_dispimg_hit_rd0') (20, 400)\n",
      "('DLS', 'G', 'after_dispimg_mistake') (2, 400)\n",
      "('DLS', 'G', 'after_dispimg_hit_rd2') (20, 400)\n",
      "('DMS', 'G', 'iti_touch') (7, 400)\n",
      "('DMS', 'G', 'dispimg') (314, 400)\n",
      "('DMS', 'G', 'hit') (60, 400)\n",
      "('DMS', 'G', 'mistake') (2, 400)\n",
      "('DMS', 'G', 'miss') (44, 400)\n",
      "('DMS', 'G', 'cor_reject') (208, 400)\n",
      "('DMS', 'G', 'hit_rd4') (20, 400)\n",
      "('DMS', 'G', 'hit_rd0') (20, 400)\n",
      "('DMS', 'G', 'hit_rd2') (20, 400)\n",
      "('DMS', 'G', 'reward_collect_rd4') (20, 400)\n",
      "('DMS', 'G', 'reward_collect_rd0') (20, 400)\n",
      "('DMS', 'G', 'reward_collect_rd2') (20, 400)\n",
      "('DMS', 'G', 'before_dispimg_cor_reject') (208, 400)\n",
      "('DMS', 'G', 'before_dispimg_hit') (60, 400)\n",
      "('DMS', 'G', 'before_dispimg_hit_rd4') (20, 400)\n",
      "('DMS', 'G', 'before_dispimg_miss') (44, 400)\n",
      "('DMS', 'G', 'before_dispimg_hit_rd0') (20, 400)\n",
      "('DMS', 'G', 'before_dispimg_mistake') (2, 400)\n",
      "('DMS', 'G', 'before_dispimg_hit_rd2') (20, 400)\n",
      "('DMS', 'G', 'after_dispimg_cor_reject') (207, 400)\n",
      "('DMS', 'G', 'after_dispimg_hit') (60, 400)\n",
      "('DMS', 'G', 'after_dispimg_hit_rd4') (20, 400)\n",
      "('DMS', 'G', 'after_dispimg_miss') (44, 400)\n",
      "('DMS', 'G', 'after_dispimg_hit_rd0') (20, 400)\n",
      "('DMS', 'G', 'after_dispimg_mistake') (2, 400)\n",
      "('DMS', 'G', 'after_dispimg_hit_rd2') (20, 400)\n"
     ]
    }
   ],
   "source": [
    "for k, v in s0.signal_info.items():\n",
    "    print(k, v['signal_matrix'].shape)"
   ]
  },
  {
   "cell_type": "code",
   "execution_count": null,
   "id": "c424cbe4",
   "metadata": {},
   "outputs": [],
   "source": []
  }
 ],
 "metadata": {
  "kernelspec": {
   "display_name": "fiberphoto-demo",
   "language": "python",
   "name": "python3"
  },
  "language_info": {
   "codemirror_mode": {
    "name": "ipython",
    "version": 3
   },
   "file_extension": ".py",
   "mimetype": "text/x-python",
   "name": "python",
   "nbconvert_exporter": "python",
   "pygments_lexer": "ipython3",
   "version": "3.10.13"
  }
 },
 "nbformat": 4,
 "nbformat_minor": 5
}
