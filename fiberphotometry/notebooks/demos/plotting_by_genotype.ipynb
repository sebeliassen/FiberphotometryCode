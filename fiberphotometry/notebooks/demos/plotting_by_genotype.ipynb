{
 "cells": [
  {
   "cell_type": "code",
   "execution_count": 1,
   "id": "7978b604",
   "metadata": {},
   "outputs": [],
   "source": [
    "import sys\n",
    "sys.path.append('../../../')"
   ]
  },
  {
   "cell_type": "code",
   "execution_count": 2,
   "id": "93b4514a",
   "metadata": {},
   "outputs": [],
   "source": [
    "import warnings\n",
    "import pytest\n",
    "from pathlib import Path\n",
    "from collections import defaultdict\n",
    "\n",
    "from fiberphotometry.config import PLOTTING_CONFIG\n",
    "from fiberphotometry.data.data_loading import DataContainer, load_all_sessions\n",
    "from fiberphotometry.data.session_loading import populate_containers\n",
    "from fiberphotometry.data.syncer import sync_session\n",
    "from fiberphotometry.data.timepoint_processing import create_event_idxs_container_for_sessions\n",
    "from fiberphotometry.processing.plotting_setup import PlottingSetup\n",
    "from fiberphotometry.processing.signal_info_setup import assign_sessions_signal_info"
   ]
  },
  {
   "cell_type": "code",
   "execution_count": 3,
   "id": "5ee584c3",
   "metadata": {},
   "outputs": [],
   "source": [
    "baseline_path = Path(\"../../../trial_Gq-DREADD_CPT\")"
   ]
  },
  {
   "cell_type": "code",
   "execution_count": 4,
   "id": "4078d921",
   "metadata": {},
   "outputs": [
    {
     "name": "stderr",
     "output_type": "stream",
     "text": [
      "Processing trial directories: 100%|██████████| 3/3 [00:00<00:00,  4.15it/s]\n"
     ]
    }
   ],
   "source": [
    "sessions = load_all_sessions(\n",
    "            baseline_dir=str(baseline_path),\n",
    "            session_type=\"cpt\",\n",
    "            first_n_dirs=3,\n",
    "            remove_bad_signal_sessions=True\n",
    "        );"
   ]
  },
  {
   "cell_type": "code",
   "execution_count": 5,
   "id": "b3aa67a2",
   "metadata": {},
   "outputs": [
    {
     "name": "stdout",
     "output_type": "stream",
     "text": [
      "../../../trial_Gq-DREADD_CPT/T1_125.127.129.131_210723veh1 125\n",
      "../../../trial_Gq-DREADD_CPT/T1_125.127.129.131_210723veh1 127\n",
      "../../../trial_Gq-DREADD_CPT/T1_125.127.129.131_210723veh1 129\n",
      "../../../trial_Gq-DREADD_CPT/T1_125.127.129.131_210723veh1 131\n",
      "../../../trial_Gq-DREADD_CPT/T2_e.135.137.79_210723veh1 135\n",
      "../../../trial_Gq-DREADD_CPT/T2_e.135.137.79_210723veh1 137\n",
      "../../../trial_Gq-DREADD_CPT/T2_e.135.137.79_210723veh1 79\n",
      "../../../trial_Gq-DREADD_CPT/T3_143.145.147.85_210723veh1 143\n",
      "../../../trial_Gq-DREADD_CPT/T3_143.145.147.85_210723veh1 145\n",
      "../../../trial_Gq-DREADD_CPT/T3_143.145.147.85_210723veh1 147\n",
      "../../../trial_Gq-DREADD_CPT/T3_143.145.147.85_210723veh1 85\n"
     ]
    }
   ],
   "source": [
    "for s in sessions:\n",
    "    print(s.trial_dir, s.mouse_id)"
   ]
  },
  {
   "cell_type": "code",
   "execution_count": 6,
   "id": "dfb4d539",
   "metadata": {},
   "outputs": [],
   "source": [
    "populate_containers(sessions)"
   ]
  },
  {
   "cell_type": "code",
   "execution_count": 7,
   "id": "a6cb4bb6",
   "metadata": {},
   "outputs": [
    {
     "name": "stdout",
     "output_type": "stream",
     "text": [
      "Truncating 'phot_470': removed 1 rows\n",
      "Truncating 'phot_470': removed 1 rows\n",
      "Truncating 'phot_470': removed 1 rows\n",
      "Truncating 'phot_470': removed 1 rows\n"
     ]
    }
   ],
   "source": [
    "for session in sessions:\n",
    "    sync_session(session)"
   ]
  },
  {
   "cell_type": "code",
   "execution_count": 8,
   "id": "09a63f69",
   "metadata": {},
   "outputs": [],
   "source": [
    "actions_attr_dict = {\"Hit\": \"hit\",\n",
    "                    \"Mistake\": \"mistake\", \n",
    "                    \"Missed Hit\": \"miss\",                    \n",
    "                    \"Correction Trial Correct Rejection\": \"cor_reject\", \n",
    "                    \"Correct Rejection\": \"cor_reject\"}\n",
    "\n",
    "reward_attr_dict = {\"Reward Collected Start ITI\": \"reward_collect\"}"
   ]
  },
  {
   "cell_type": "code",
   "execution_count": 9,
   "id": "9ea0900b",
   "metadata": {},
   "outputs": [],
   "source": [
    "create_event_idxs_container_for_sessions(sessions, actions_attr_dict, reward_attr_dict)"
   ]
  },
  {
   "cell_type": "code",
   "execution_count": 10,
   "id": "a1eeefd8",
   "metadata": {},
   "outputs": [],
   "source": [
    "PlottingSetup(**PLOTTING_CONFIG['cpt']).apply_plotting_setup_to_sessions(sessions)"
   ]
  },
  {
   "cell_type": "code",
   "execution_count": 11,
   "id": "edd20be6",
   "metadata": {},
   "outputs": [],
   "source": [
    "assign_sessions_signal_info(sessions)"
   ]
  },
  {
   "cell_type": "code",
   "execution_count": 12,
   "id": "5e0eeb74",
   "metadata": {},
   "outputs": [],
   "source": [
    "s0 = sessions[0]"
   ]
  },
  {
   "cell_type": "code",
   "execution_count": 13,
   "id": "ff25c640",
   "metadata": {},
   "outputs": [
    {
     "name": "stdout",
     "output_type": "stream",
     "text": [
      "('LH', 'G', 'iti_touch') (122, 400)\n",
      "('LH', 'G', 'dispimg') (270, 400)\n",
      "('LH', 'G', 'hit') (40, 400)\n",
      "('LH', 'G', 'mistake') (26, 400)\n",
      "('LH', 'G', 'miss') (81, 400)\n",
      "('LH', 'G', 'cor_reject') (122, 400)\n",
      "('LH', 'G', 'reward_collect') (40, 400)\n",
      "('LH', 'G', 'before_dispimg_miss') (81, 400)\n",
      "('LH', 'G', 'before_dispimg_cor_reject') (122, 400)\n",
      "('LH', 'G', 'before_dispimg_hit') (40, 400)\n",
      "('LH', 'G', 'before_dispimg_mistake') (26, 400)\n",
      "('LH', 'G', 'after_dispimg_miss') (81, 400)\n",
      "('LH', 'G', 'after_dispimg_cor_reject') (122, 400)\n",
      "('LH', 'G', 'after_dispimg_hit') (40, 400)\n",
      "('LH', 'G', 'after_dispimg_mistake') (26, 400)\n",
      "('mPFC', 'G', 'iti_touch') (122, 400)\n",
      "('mPFC', 'G', 'dispimg') (270, 400)\n",
      "('mPFC', 'G', 'hit') (40, 400)\n",
      "('mPFC', 'G', 'mistake') (26, 400)\n",
      "('mPFC', 'G', 'miss') (81, 400)\n",
      "('mPFC', 'G', 'cor_reject') (122, 400)\n",
      "('mPFC', 'G', 'reward_collect') (40, 400)\n",
      "('mPFC', 'G', 'before_dispimg_miss') (81, 400)\n",
      "('mPFC', 'G', 'before_dispimg_cor_reject') (122, 400)\n",
      "('mPFC', 'G', 'before_dispimg_hit') (40, 400)\n",
      "('mPFC', 'G', 'before_dispimg_mistake') (26, 400)\n",
      "('mPFC', 'G', 'after_dispimg_miss') (81, 400)\n",
      "('mPFC', 'G', 'after_dispimg_cor_reject') (122, 400)\n",
      "('mPFC', 'G', 'after_dispimg_hit') (40, 400)\n",
      "('mPFC', 'G', 'after_dispimg_mistake') (26, 400)\n"
     ]
    }
   ],
   "source": [
    "for k, v in s0.signal_info.items():\n",
    "    print(k, v['signal_matrix'].shape)"
   ]
  },
  {
   "cell_type": "code",
   "execution_count": null,
   "id": "c424cbe4",
   "metadata": {},
   "outputs": [],
   "source": []
  }
 ],
 "metadata": {
  "kernelspec": {
   "display_name": "fiberphoto-demo",
   "language": "python",
   "name": "python3"
  },
  "language_info": {
   "codemirror_mode": {
    "name": "ipython",
    "version": 3
   },
   "file_extension": ".py",
   "mimetype": "text/x-python",
   "name": "python",
   "nbconvert_exporter": "python",
   "pygments_lexer": "ipython3",
   "version": "3.10.13"
  }
 },
 "nbformat": 4,
 "nbformat_minor": 5
}
