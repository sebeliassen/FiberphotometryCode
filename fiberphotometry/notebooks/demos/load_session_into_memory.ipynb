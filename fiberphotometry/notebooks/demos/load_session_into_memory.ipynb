{
 "cells": [
  {
   "cell_type": "code",
   "execution_count": 1,
   "id": "7978b604",
   "metadata": {},
   "outputs": [],
   "source": [
    "import sys\n",
    "sys.path.append('../../../')"
   ]
  },
  {
   "cell_type": "code",
   "execution_count": 2,
   "id": "93b4514a",
   "metadata": {},
   "outputs": [],
   "source": [
    "import warnings\n",
    "import pytest\n",
    "from pathlib import Path\n",
    "from collections import defaultdict\n",
    "\n",
    "from fiberphotometry.config import PLOTTING_CONFIG\n",
    "from fiberphotometry.data.data_loading import DataContainer, load_all_sessions\n",
    "from fiberphotometry.data.session_loading import populate_containers\n",
    "from fiberphotometry.data.syncer import sync_session\n",
    "from fiberphotometry.data.timepoint_processing import create_event_idxs_container_for_sessions\n",
    "from fiberphotometry.processing.plotting_setup import PlottingSetup\n",
    "from fiberphotometry.processing.signal_info_setup import assign_sessions_signal_info"
   ]
  },
  {
   "cell_type": "code",
   "execution_count": 3,
   "id": "5ee584c3",
   "metadata": {},
   "outputs": [],
   "source": [
    "baseline_path = Path(\"../../../Baseline\")"
   ]
  },
  {
   "cell_type": "code",
   "execution_count": 4,
   "id": "4078d921",
   "metadata": {},
   "outputs": [
    {
     "name": "stderr",
     "output_type": "stream",
     "text": [
      "Processing trial directories:   0%|          | 0/3 [00:00<?, ?it/s]/Users/fsp585/Desktop/gether-demo/FiberphotometryCode/fiberphotometry/notebooks/demos/../../../fiberphotometry/data/data_loading.py:375: UserWarning: Both XLSX and CSV trial‐guide files found for T1 in ../../../Baseline/T1_23.25.29.e. Using 'T1_trial_guide.xlsx'.\n",
      "  warnings.warn(\n",
      "Processing trial directories:  33%|███▎      | 1/3 [00:00<00:01,  1.58it/s]/Users/fsp585/Desktop/gether-demo/FiberphotometryCode/fiberphotometry/notebooks/demos/../../../fiberphotometry/data/data_loading.py:375: UserWarning: Both XLSX and CSV trial‐guide files found for T2 in ../../../Baseline/T2_23.25.29.e_2. Using 'T2_trial_guide.xlsx'.\n",
      "  warnings.warn(\n",
      "/Users/fsp585/Desktop/gether-demo/FiberphotometryCode/fiberphotometry/notebooks/demos/../../../fiberphotometry/data/data_loading.py:375: UserWarning: Both XLSX and CSV trial‐guide files found for T3 in ../../../Baseline/T3_23.25.29.e_4. Using 'T3_trial_guide.xlsx'.\n",
      "  warnings.warn(\n",
      "Processing trial directories: 100%|██████████| 3/3 [00:00<00:00,  4.59it/s]\n"
     ]
    }
   ],
   "source": [
    "sessions = load_all_sessions(\n",
    "            baseline_dir=str(baseline_path),\n",
    "            session_type=\"cpt\",\n",
    "            first_n_dirs=3,\n",
    "            remove_bad_signal_sessions=True\n",
    "        );"
   ]
  },
  {
   "cell_type": "code",
   "execution_count": 5,
   "id": "b3aa67a2",
   "metadata": {},
   "outputs": [
    {
     "name": "stdout",
     "output_type": "stream",
     "text": [
      "../../../Baseline/T1_23.25.29.e 23\n",
      "../../../Baseline/T1_23.25.29.e 25\n",
      "../../../Baseline/T1_23.25.29.e 29\n",
      "../../../Baseline/T2_23.25.29.e_2 23\n",
      "../../../Baseline/T2_23.25.29.e_2 25\n",
      "../../../Baseline/T2_23.25.29.e_2 29\n",
      "../../../Baseline/T3_23.25.29.e_4 23\n",
      "../../../Baseline/T3_23.25.29.e_4 25\n",
      "../../../Baseline/T3_23.25.29.e_4 29\n"
     ]
    }
   ],
   "source": [
    "for s in sessions:\n",
    "    print(s.trial_dir, s.mouse_id)"
   ]
  },
  {
   "cell_type": "code",
   "execution_count": 6,
   "id": "dfb4d539",
   "metadata": {},
   "outputs": [],
   "source": [
    "populate_containers(sessions)"
   ]
  },
  {
   "cell_type": "code",
   "execution_count": 7,
   "id": "a6cb4bb6",
   "metadata": {},
   "outputs": [
    {
     "name": "stdout",
     "output_type": "stream",
     "text": [
      "Truncating 'phot_470': removed 1 rows\n",
      "Truncating 'phot_470': removed 1 rows\n",
      "Truncating 'phot_470': removed 1 rows\n",
      "Truncating 'phot_470': removed 1 rows\n",
      "Truncating 'phot_470': removed 1 rows\n",
      "Truncating 'phot_470': removed 1 rows\n",
      "Truncating 'phot_470': removed 1 rows\n"
     ]
    }
   ],
   "source": [
    "for session in sessions:\n",
    "    sync_session(session)"
   ]
  },
  {
   "cell_type": "code",
   "execution_count": 8,
   "id": "09a63f69",
   "metadata": {},
   "outputs": [],
   "source": [
    "actions_attr_dict = {\"Hit\": \"hit\",\n",
    "                    \"Mistake\": \"mistake\", \n",
    "                    \"Missed Hit\": \"miss\",                    \n",
    "                    \"Correction Trial Correct Rejection\": \"cor_reject\", \n",
    "                    \"Correct Rejection\": \"cor_reject\"}\n",
    "\n",
    "reward_attr_dict = {\"Reward Collected Start ITI\": \"reward_collect\"}"
   ]
  },
  {
   "cell_type": "code",
   "execution_count": 9,
   "id": "9ea0900b",
   "metadata": {},
   "outputs": [],
   "source": [
    "create_event_idxs_container_for_sessions(sessions, actions_attr_dict, reward_attr_dict)"
   ]
  },
  {
   "cell_type": "code",
   "execution_count": 10,
   "id": "a1eeefd8",
   "metadata": {},
   "outputs": [],
   "source": [
    "PlottingSetup(**PLOTTING_CONFIG['cpt']).apply_plotting_setup_to_sessions(sessions)"
   ]
  },
  {
   "cell_type": "code",
   "execution_count": 11,
   "id": "edd20be6",
   "metadata": {},
   "outputs": [],
   "source": [
    "assign_sessions_signal_info(sessions)"
   ]
  },
  {
   "cell_type": "code",
   "execution_count": 12,
   "id": "5e0eeb74",
   "metadata": {},
   "outputs": [],
   "source": [
    "s0 = sessions[0]"
   ]
  },
  {
   "cell_type": "code",
   "execution_count": 13,
   "id": "ff25c640",
   "metadata": {},
   "outputs": [
    {
     "name": "stdout",
     "output_type": "stream",
     "text": [
      "('DLS', 'G', 'iti_touch') (41, 400)\n",
      "('DLS', 'G', 'dispimg') (345, 400)\n",
      "('DLS', 'G', 'hit') (18, 400)\n",
      "('DLS', 'G', 'mistake') (14, 400)\n",
      "('DLS', 'G', 'miss') (92, 400)\n",
      "('DLS', 'G', 'cor_reject') (220, 400)\n",
      "('DLS', 'G', 'reward_collect') (18, 400)\n",
      "('DLS', 'G', 'before_dispimg_miss') (92, 400)\n",
      "('DLS', 'G', 'before_dispimg_cor_reject') (220, 400)\n",
      "('DLS', 'G', 'before_dispimg_hit') (18, 400)\n",
      "('DLS', 'G', 'before_dispimg_mistake') (14, 400)\n",
      "('DLS', 'G', 'after_dispimg_miss') (92, 400)\n",
      "('DLS', 'G', 'after_dispimg_cor_reject') (220, 400)\n",
      "('DLS', 'G', 'after_dispimg_hit') (18, 400)\n",
      "('DLS', 'G', 'after_dispimg_mistake') (14, 400)\n",
      "('DMS', 'G', 'iti_touch') (41, 400)\n",
      "('DMS', 'G', 'dispimg') (345, 400)\n",
      "('DMS', 'G', 'hit') (18, 400)\n",
      "('DMS', 'G', 'mistake') (14, 400)\n",
      "('DMS', 'G', 'miss') (92, 400)\n",
      "('DMS', 'G', 'cor_reject') (220, 400)\n",
      "('DMS', 'G', 'reward_collect') (18, 400)\n",
      "('DMS', 'G', 'before_dispimg_miss') (92, 400)\n",
      "('DMS', 'G', 'before_dispimg_cor_reject') (220, 400)\n",
      "('DMS', 'G', 'before_dispimg_hit') (18, 400)\n",
      "('DMS', 'G', 'before_dispimg_mistake') (14, 400)\n",
      "('DMS', 'G', 'after_dispimg_miss') (92, 400)\n",
      "('DMS', 'G', 'after_dispimg_cor_reject') (220, 400)\n",
      "('DMS', 'G', 'after_dispimg_hit') (18, 400)\n",
      "('DMS', 'G', 'after_dispimg_mistake') (14, 400)\n"
     ]
    }
   ],
   "source": [
    "for k, v in s0.signal_info.items():\n",
    "    print(k, v['signal_matrix'].shape)"
   ]
  },
  {
   "cell_type": "code",
   "execution_count": null,
   "id": "c424cbe4",
   "metadata": {},
   "outputs": [],
   "source": []
  }
 ],
 "metadata": {
  "kernelspec": {
   "display_name": "fiberphoto-demo",
   "language": "python",
   "name": "python3"
  },
  "language_info": {
   "codemirror_mode": {
    "name": "ipython",
    "version": 3
   },
   "file_extension": ".py",
   "mimetype": "text/x-python",
   "name": "python",
   "nbconvert_exporter": "python",
   "pygments_lexer": "ipython3",
   "version": "3.10.13"
  }
 },
 "nbformat": 4,
 "nbformat_minor": 5
}
