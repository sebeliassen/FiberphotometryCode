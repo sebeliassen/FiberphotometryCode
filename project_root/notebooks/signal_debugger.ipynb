{
 "cells": [
  {
   "cell_type": "code",
   "execution_count": null,
   "metadata": {},
   "outputs": [],
   "source": [
    "%load_ext autoreload\n",
    "%autoreload 2\n",
    "\n",
    "import sys\n",
    "sys.path.append('../')\n",
    "\n",
    "from main import load_and_prepare_sessions\n",
    "from config import *\n",
    "\n",
    "import numpy as np\n",
    "import matplotlib.pyplot as plt\n",
    "\n",
    "sessions = load_and_prepare_sessions(\"../../Baseline\", load_from_pickle=True, remove_bad_signal_sessions=True)"
   ]
  },
  {
   "cell_type": "code",
   "execution_count": null,
   "metadata": {},
   "outputs": [],
   "source": [
    "%matplotlib widget\n",
    "\n",
    "def plot_session_events_and_signal_matplotlib(session, brain_reg, ax, title_suffix=\"\"):\n",
    "    phot_df = session.df_container.data['photwrit_470']\n",
    "    raw_df = session.df_container.data['raw']\n",
    "    filtered_df = raw_df.loc[session.events_of_interest_df[\"index\"]]\n",
    "\n",
    "    signal = phot_df[f'{brain_reg}_phot_zF']\n",
    "    #signal = savgol_filter(signal, 10, 3)  # Apply Savitzky-Golay filter\n",
    "    phot_times = phot_df['SecFromZero_FP3002'].values\n",
    "    event_times = filtered_df['SecFromZero_FP3002'].values\n",
    "\n",
    "    # Plot the photometry signal\n",
    "    ax.plot(phot_times, signal, label='Signal', linewidth=0.5)\n",
    "\n",
    "    # Plot a vertical line at the first event time\n",
    "    if len(event_times) > 0:\n",
    "        first_event_time = event_times[0]\n",
    "        ax.axvline(x=first_event_time, color='red', linestyle='--', label='First Event')\n",
    "        last_event_time = event_times[-1]\n",
    "        ax.axvline(x=last_event_time, color='red', linestyle='--', label='Last Event')\n",
    "\n",
    "        # Set y-axis limits to the minimum and maximum value of the signal between first and last event time\n",
    "        signal_between_events = signal[(phot_times >= first_event_time) & (phot_times <= last_event_time)]\n",
    "        ax.set_ylim(np.min(signal_between_events), np.max(signal_between_events))\n",
    "    \n",
    "    ax.set_xlabel('Time (s)')\n",
    "    ax.set_ylabel('Signal')\n",
    "    ax.set_title(f\"Session {title_suffix}\")\n",
    "    ax.legend()\n",
    "\n",
    "for idx, session in enumerate(sessions):\n",
    "    if session.trial_id[:3] != 'T20':\n",
    "        continue\n",
    "    if 'DMS_left' in session.brain_regions:\n",
    "        dms_key = 'DMS_left'\n",
    "    elif 'DMS_right' in session.brain_regions:\n",
    "        dms_key = 'DMS_right'\n",
    "    else:\n",
    "        continue\n",
    "    fig, ax = plt.subplots() \n",
    "    plot_session_events_and_signal_matplotlib(session, dms_key, ax, f'{session.trial_id}, {session.mouse_id}')\n",
    "    plt.show() \n"
   ]
  }
 ],
 "metadata": {
  "kernelspec": {
   "display_name": "SUND",
   "language": "python",
   "name": "python3"
  },
  "language_info": {
   "codemirror_mode": {
    "name": "ipython",
    "version": 3
   },
   "file_extension": ".py",
   "mimetype": "text/x-python",
   "name": "python",
   "nbconvert_exporter": "python",
   "pygments_lexer": "ipython3",
   "version": "3.11.5"
  }
 },
 "nbformat": 4,
 "nbformat_minor": 2
}
