{
 "cells": [
  {
   "cell_type": "code",
   "execution_count": 50,
   "metadata": {},
   "outputs": [
    {
     "name": "stdout",
     "output_type": "stream",
     "text": [
      "The autoreload extension is already loaded. To reload it, use:\n",
      "  %reload_ext autoreload\n"
     ]
    },
    {
     "name": "stderr",
     "output_type": "stream",
     "text": [
      "100%|██████████| 2/2 [00:05<00:00,  2.51s/it]\n"
     ]
    }
   ],
   "source": [
    "%load_ext autoreload\n",
    "%autoreload 2\n",
    "\n",
    "from data.mouse import Mouse\n",
    "from collections import defaultdict\n",
    "\n",
    "import sys\n",
    "sys.path.append('../')\n",
    "\n",
    "from main import load_and_prepare_sessions\n",
    "sessions = load_and_prepare_sessions(\"../../Baseline\", first_n_dirs=2)"
   ]
  },
  {
   "cell_type": "code",
   "execution_count": 51,
   "metadata": {},
   "outputs": [],
   "source": [
    "mice_sessions = defaultdict(list)\n",
    "for session in sessions:\n",
    "    mice_sessions[session.mouse_id].append(session)"
   ]
  },
  {
   "cell_type": "code",
   "execution_count": 52,
   "metadata": {},
   "outputs": [],
   "source": [
    "mice = {mouse_id: Mouse(mouse_sessions) for mouse_id, mouse_sessions in mice_sessions.items()}"
   ]
  },
  {
   "cell_type": "code",
   "execution_count": 53,
   "metadata": {},
   "outputs": [],
   "source": [
    "from scipy.stats import norm\n",
    "\n",
    "\n",
    "def calculate_d_prime(hit_rate, false_alarm_rate):\n",
    "    # Avoid division by zero or calculating z-scores for rates of 1 by capping the rates\n",
    "    hit_rate = min(max(hit_rate, 1e-5), 1 - 1e-5)\n",
    "    false_alarm_rate = min(max(false_alarm_rate, 1e-5), 1 - 1e-5)\n",
    "\n",
    "    # Calculate z-scores\n",
    "    z_hit = norm.ppf(hit_rate)\n",
    "    z_false_alarm = norm.ppf(false_alarm_rate)\n",
    "\n",
    "    # Calculate d'\n",
    "    d_prime = z_hit - z_false_alarm\n",
    "\n",
    "    return d_prime\n",
    "mouse_d_primes = []"
   ]
  },
  {
   "cell_type": "code",
   "execution_count": 54,
   "metadata": {},
   "outputs": [
    {
     "name": "stdout",
     "output_type": "stream",
     "text": [
      "23 0.7802476264984495\n",
      "29 0.9904741450481837\n",
      "25 1.5260353101330202\n"
     ]
    }
   ],
   "source": [
    "# Calculate d' for each mouse\n",
    "mouse_d_primes = [(mouse_id, calculate_d_prime(mouse.rates['hit_rate'], mouse.rates['false_alarm_rate']))\n",
    "                  for mouse_id, mouse in mice.items()]\n",
    "mouse_d_primes = sorted(mouse_d_primes, key=lambda t: t[1])\n",
    "\n",
    "# Display the results\n",
    "for mouse_id, d_prime in mouse_d_primes:\n",
    "    print(mouse_id, d_prime)"
   ]
  },
  {
   "cell_type": "code",
   "execution_count": 55,
   "metadata": {},
   "outputs": [
    {
     "data": {
      "text/plain": [
       "['miss',\n",
       " 'cor_reject',\n",
       " 'hit',\n",
       " 'reward_collect',\n",
       " 'mistake',\n",
       " 'before_dispimg_miss',\n",
       " 'before_dispimg_cor_reject',\n",
       " 'before_dispimg_hit',\n",
       " 'before_dispimg_mistake']"
      ]
     },
     "execution_count": 55,
     "metadata": {},
     "output_type": "execute_result"
    }
   ],
   "source": [
    "sessions[0].timepoints_container.fetch_all_data_names()"
   ]
  },
  {
   "cell_type": "code",
   "execution_count": null,
   "metadata": {},
   "outputs": [],
   "source": []
  }
 ],
 "metadata": {
  "kernelspec": {
   "display_name": "SUND",
   "language": "python",
   "name": "python3"
  },
  "language_info": {
   "codemirror_mode": {
    "name": "ipython",
    "version": 3
   },
   "file_extension": ".py",
   "mimetype": "text/x-python",
   "name": "python",
   "nbconvert_exporter": "python",
   "pygments_lexer": "ipython3",
   "version": "3.11.5"
  }
 },
 "nbformat": 4,
 "nbformat_minor": 2
}
