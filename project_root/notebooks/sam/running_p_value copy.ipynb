{
 "cells": [
  {
   "cell_type": "code",
   "execution_count": null,
   "metadata": {},
   "outputs": [],
   "source": [
    "%load_ext autoreload\n",
    "%autoreload 2\n",
    "\n",
    "import sys\n",
    "sys.path.append('../../')\n",
    "\n",
    "from main import load_and_prepare_sessions\n",
    "from processing.session_sampling import MiceAnalysis\n",
    "from config import attr_interval_dict, all_metrics, all_brain_regions, all_event_types\n",
    "from analysis.timepoint_analysis import sample_low_and_high_signals\n",
    "from plotting.main_plotting import plot_signals_p_values\n",
    "import matplotlib.pyplot as plt\n",
    "\n",
    "\n",
    "sessions = load_and_prepare_sessions(\"../../../Baseline\", load_from_pickle=True, remove_bad_signal_sessions=True)\n",
    "mouse_analyser = MiceAnalysis(sessions)"
   ]
  },
  {
   "cell_type": "code",
   "execution_count": null,
   "metadata": {},
   "outputs": [],
   "source": [
    "import itertools\n",
    "import numpy as np\n",
    "from scipy.stats import ttest_ind\n",
    "from itertools import chain\n",
    "from utils import mouse_br_events_count\n",
    "\n",
    "# brain_reg_to_color = {'LH': 'orange',\n",
    "#                       'mPFC': 'paleturquoise'}\n",
    "brain_reg_to_color = {'VS': 'purple',\n",
    "                      'DMS': 'forestgreen',\n",
    "                      'DLS': 'C0'}\n",
    "\n",
    "# Assuming config.all_metrics, config.all_brain_regions, and config.all_events are all iterable\n",
    "for performance_metric, brain_region, event in itertools.product(all_metrics, all_brain_regions, all_event_types):\n",
    "    low_signals, high_signals, low_resp_metrics, high_resp_metrics, resp_metric_names = \\\n",
    "        sample_low_and_high_signals('events', performance_metric, brain_region, event, mouse_analyser, n=1000)\n",
    "    \n",
    "    sb = attr_interval_dict[event]\n",
    "\n",
    "    t_stats = np.zeros(low_signals.shape[1])  # Assuming the second dimension is time\n",
    "    p_values = np.zeros(low_signals.shape[1])\n",
    "    \n",
    "    # Perform a t-test at each time point\n",
    "    for time_point in range(low_signals.shape[1]):\n",
    "        t_stat, p_value = ttest_ind(low_signals[:, time_point], high_signals[:, time_point])\n",
    "        t_stats[time_point] = t_stat\n",
    "        p_values[time_point] = p_value\n",
    "    \n",
    "    \n",
    "    if np.min(p_values) >= 1/3000:\n",
    "        continue\n",
    "    suptitle = f\"brain regions: {brain_region},  metric: {performance_metric},  event type: {event} ({low_signals.shape[0]})\"\n",
    "\n",
    "    low_subtitle = f\"low 3 mice vs. upper 3 mice\"\n",
    "    high_subtitle = ''\n",
    "\n",
    "    color = brain_reg_to_color[brain_region]\n",
    "    plot_signals_p_values([low_signals, high_signals], [low_subtitle, high_subtitle], suptitle, color, \n",
    "                          5, sb, p_values, fname=None)#f'{performance_metric}_{brain_region}_{event}.png')"
   ]
  },
  {
   "cell_type": "code",
   "execution_count": null,
   "metadata": {},
   "outputs": [],
   "source": []
  }
 ],
 "metadata": {
  "kernelspec": {
   "display_name": "SUND",
   "language": "python",
   "name": "python3"
  },
  "language_info": {
   "codemirror_mode": {
    "name": "ipython",
    "version": 3
   },
   "file_extension": ".py",
   "mimetype": "text/x-python",
   "name": "python",
   "nbconvert_exporter": "python",
   "pygments_lexer": "ipython3",
   "version": "3.11.5"
  }
 },
 "nbformat": 4,
 "nbformat_minor": 2
}
