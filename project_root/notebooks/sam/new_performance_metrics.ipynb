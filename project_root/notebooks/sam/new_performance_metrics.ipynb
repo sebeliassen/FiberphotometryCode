{
 "cells": [
  {
   "cell_type": "code",
   "execution_count": 55,
   "metadata": {},
   "outputs": [
    {
     "name": "stdout",
     "output_type": "stream",
     "text": [
      "The autoreload extension is already loaded. To reload it, use:\n",
      "  %reload_ext autoreload\n"
     ]
    }
   ],
   "source": [
    "%load_ext autoreload\n",
    "%autoreload 2\n",
    "\n",
    "import sys\n",
    "sys.path.append('../')\n",
    "\n",
    "from main import load_and_prepare_sessions\n",
    "from processing.session_sampling import MiceAnalysis\n",
    "import numpy as np\n",
    "\n",
    "sessions = load_and_prepare_sessions(\"../../Baseline\", load_from_pickle=True, remove_bad_signal_sessions=True)\n",
    "mouse_analyser = MiceAnalysis(sessions)"
   ]
  },
  {
   "cell_type": "code",
   "execution_count": 56,
   "metadata": {},
   "outputs": [],
   "source": [
    "# the new performance metrics are avg time from disp to hit, avg time from hit to reward and\n",
    "# ITI touches"
   ]
  },
  {
   "cell_type": "code",
   "execution_count": 57,
   "metadata": {},
   "outputs": [],
   "source": [
    "def trim_to_match_sequences(dispimg_idxs, hit_idxs, reward_idxs):\n",
    "    \n",
    "    # Step 1: Ensure each 'dispimg' has a 'hit' after it\n",
    "    hit_after_dispimg_mask = np.searchsorted(hit_idxs, dispimg_idxs, side='right') < len(hit_idxs)\n",
    "    dispimg_idxs = dispimg_idxs[hit_after_dispimg_mask]\n",
    "    \n",
    "    # Step 2: Ensure each 'hit' has a 'reward' after it\n",
    "    # This also indirectly ensures that each 'dispimg' has a corresponding 'reward' due to the previous step\n",
    "    reward_after_hit_mask = np.searchsorted(reward_idxs, hit_idxs, side='right') < len(reward_idxs)\n",
    "    hit_idxs = hit_idxs[reward_after_hit_mask]\n",
    "    \n",
    "    # Final Alignment: In case lengths are mismatched after trimming, align to the shortest sequence\n",
    "    min_length = min(len(dispimg_idxs), len(hit_idxs), len(reward_idxs))\n",
    "    dispimg_idxs = dispimg_idxs[:min_length]\n",
    "    hit_idxs = hit_idxs[:min_length]\n",
    "    reward_idxs = reward_idxs[np.searchsorted(reward_idxs, hit_idxs[:min_length], side='right') - 1]  # Matching rewards to hits\n",
    "\n",
    "    return dispimg_idxs, hit_idxs, reward_idxs\n",
    "\n",
    "\n",
    "def get_avg_time_from_disp_to_hit_to_reward(sessions):\n",
    "    dispimg_idxs = []\n",
    "    hit_idxs = []\n",
    "    reward_idxs = []\n",
    "    \n",
    "    for session in sessions:\n",
    "        event_idxs_data = session.event_idxs_container.data\n",
    "        phot_df = session.df_container.get_data(\"photwrit_470\")\n",
    "        phot_times = phot_df['SecFromZero_FP3002'].values\n",
    "        \n",
    "        curr_dispimg_idxs = event_idxs_data['before_dispimg_hit']\n",
    "        curr_hit_idxs = event_idxs_data['hit']\n",
    "        curr_reward_idxs = event_idxs_data['reward_collect']\n",
    "\n",
    "        min_len = min(len(curr_dispimg_idxs), len(curr_hit_idxs), len(curr_reward_idxs))\n",
    "\n",
    "        curr_dispimg_idxs = curr_dispimg_idxs[:min_len]\n",
    "        curr_hit_idxs = curr_hit_idxs[:min_len]\n",
    "        curr_reward_idxs = curr_reward_idxs[:min_len]\n",
    "\n",
    "        dispimg_idxs.extend(curr_dispimg_idxs)\n",
    "        hit_idxs.extend(curr_hit_idxs)\n",
    "        reward_idxs.extend(curr_reward_idxs)\n",
    "\n",
    "    dispimg_idxs = np.array(dispimg_idxs)\n",
    "    hit_idxs = np.array(hit_idxs)\n",
    "    reward_idxs = np.array(reward_idxs)\n",
    "\n",
    "    # Perform element-wise comparison\n",
    "    if not ((dispimg_idxs < hit_idxs) & (hit_idxs < reward_idxs)).all():\n",
    "        raise ValueError(\"Indices are not in order\")\n",
    "\n",
    "    return (np.mean(phot_times[hit_idxs] - phot_times[dispimg_idxs]),\n",
    "            np.mean(phot_times[reward_idxs] - phot_times[hit_idxs])) "
   ]
  },
  {
   "cell_type": "code",
   "execution_count": 64,
   "metadata": {},
   "outputs": [
    {
     "data": {
      "text/plain": [
       "{'(SYSTEM)',\n",
       " 'A1Sound1',\n",
       " 'A2Sound2',\n",
       " 'A3Sound3',\n",
       " 'Adjust Sound Level 2',\n",
       " 'After_Reward_Pause',\n",
       " 'After_Reward_Timer',\n",
       " 'Background',\n",
       " 'Blank Image Touched',\n",
       " 'Blank_Touch_Counter',\n",
       " 'Bussey Mouse Operant Mode 3 x 1 x low',\n",
       " 'Centre Screen Touches',\n",
       " 'Centre_Touches_during_ITI',\n",
       " 'Corr_Trial_Image_Selection',\n",
       " 'Correct Rejection',\n",
       " 'Correct_Grid_Position',\n",
       " 'Correct_Image',\n",
       " 'Correction Trial Correct Rejection',\n",
       " 'Correction_Trial',\n",
       " 'Correction_Trial_Correct_Rejections',\n",
       " 'Correction_Trial_Mistakes',\n",
       " 'Current_ITI',\n",
       " 'Current_Image',\n",
       " 'Display Image',\n",
       " 'FIRBeam #1',\n",
       " 'Feeder #1',\n",
       " 'Feeder_Pulse_Time',\n",
       " 'First_Trial',\n",
       " 'Frame',\n",
       " 'Free starting pellet',\n",
       " 'Group Change',\n",
       " 'Hit',\n",
       " 'Hit_TTL #1',\n",
       " 'Houselight_Normally_On',\n",
       " 'ITI_Timer',\n",
       " 'ITIs',\n",
       " 'Image_Selection',\n",
       " 'Images',\n",
       " 'Increment Trial',\n",
       " 'Left_Touches_during_ITI',\n",
       " 'Limited_Hold',\n",
       " 'Limited_Hold_Timer',\n",
       " 'Max_no_of_rewards',\n",
       " 'Missed Hit',\n",
       " 'Mistake',\n",
       " 'No_of_Misses',\n",
       " 'No_of_Mistakes',\n",
       " 'No_of_correct_rejections',\n",
       " 'No_of_hits',\n",
       " 'No_of_rewards_given',\n",
       " 'Non Correction Trial Miskake',\n",
       " 'Pause to eat',\n",
       " 'Pause to eat 1',\n",
       " 'Remove Stimulus Duration',\n",
       " 'Reward Collected Start ITI',\n",
       " 'Right Screen Touches',\n",
       " 'Right_touches_during_ITI',\n",
       " 'Set Blank Images',\n",
       " 'Sound #2',\n",
       " 'Sound_On #1',\n",
       " 'Start ITI',\n",
       " 'Start correction ITI',\n",
       " 'Tone_Duration',\n",
       " 'Tray #1',\n",
       " 'TrayLight #1',\n",
       " 'Wait for first pellet retrieval',\n",
       " 'White_Noise_Off #1',\n",
       " '_Schedule_Timer',\n",
       " '_Trial_Counter',\n",
       " '_Trial_Timer',\n",
       " 'stimulus_duration',\n",
       " 'stimulus_duration_timer'}"
      ]
     },
     "execution_count": 64,
     "metadata": {},
     "output_type": "execute_result"
    }
   ],
   "source": [
    "all_items = sessions[0].df_container.get_data(\"raw\")['Item_Name'].count(\"Centre_Touches_during_ITI\")\n"
   ]
  },
  {
   "cell_type": "code",
   "execution_count": null,
   "metadata": {},
   "outputs": [],
   "source": []
  }
 ],
 "metadata": {
  "kernelspec": {
   "display_name": "SUND",
   "language": "python",
   "name": "python3"
  },
  "language_info": {
   "codemirror_mode": {
    "name": "ipython",
    "version": 3
   },
   "file_extension": ".py",
   "mimetype": "text/x-python",
   "name": "python",
   "nbconvert_exporter": "python",
   "pygments_lexer": "ipython3",
   "version": "3.11.5"
  }
 },
 "nbformat": 4,
 "nbformat_minor": 2
}
