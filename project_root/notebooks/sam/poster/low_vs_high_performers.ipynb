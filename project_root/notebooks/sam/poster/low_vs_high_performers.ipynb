{
 "cells": [
  {
   "cell_type": "code",
   "execution_count": 36,
   "metadata": {},
   "outputs": [
    {
     "name": "stdout",
     "output_type": "stream",
     "text": [
      "The autoreload extension is already loaded. To reload it, use:\n",
      "  %reload_ext autoreload\n"
     ]
    }
   ],
   "source": [
    "%load_ext autoreload\n",
    "%autoreload 2\n",
    "\n",
    "import sys\n",
    "sys.path.append('../../../')\n",
    "\n",
    "from main import load_and_prepare_sessions\n",
    "from processing.session_sampling import MiceAnalysis\n",
    "import matplotlib.pyplot as plt\n",
    "from analysis.timepoint_analysis import sample_signals_and_metrics\n",
    "from plotting.main_plotting import plot_signals\n",
    "import numpy as np\n",
    "import itertools\n",
    "from analysis.timepoint_analysis import sample_low_and_high_signals\n",
    "import numpy as np\n",
    "from scipy.stats import ttest_ind\n",
    "from itertools import chain\n",
    "from utils import mouse_br_events_count\n",
    "from config import attr_interval_dict, all_brain_regions, all_metrics, all_event_types, response_metric_idxs\n",
    "all_event_types = all_event_types[:-1]\n",
    "\n",
    "\n",
    "sessions = load_and_prepare_sessions(\"../../../../Baseline\", load_from_pickle=True, remove_bad_signal_sessions=True)\n",
    "mouse_analyser = MiceAnalysis(sessions)"
   ]
  },
  {
   "cell_type": "code",
   "execution_count": 37,
   "metadata": {},
   "outputs": [],
   "source": [
    "brain_reg_to_color = {'VS': 'purple',\n",
    "                      'DMS': 'forestgreen',\n",
    "                      'DLS': 'C0'}"
   ]
  },
  {
   "cell_type": "code",
   "execution_count": null,
   "metadata": {},
   "outputs": [],
   "source": [
    "for performance_metric, brain_region, event in itertools.product(all_metrics, all_brain_regions, all_event_types):\n",
    "    low_signals, high_signals, low_resp_metrics, high_resp_metrics = \\\n",
    "        sample_low_and_high_signals('events', performance_metric, brain_region, event, mouse_analyser)\n",
    "    \n",
    "    sb = attr_interval_dict[event]\n",
    "    suptitle = f\"brain regions: {brain_region},  metric: {performance_metric},  event type: {event} ({low_signals.shape[0]})\"\n",
    "\n",
    "    low_subtitle = f\"lower 3 mice\"\n",
    "    high_subtitle = f\"upper 3 mice\"\n",
    "\n",
    "    color = brain_reg_to_color[brain_region]\n",
    "    plot_signals([low_signals, high_signals], [low_subtitle, high_subtitle], suptitle, color, \n",
    "                    5, sb)#, fname=f'{performance_metric}_{brain_region}_{event}.png')"
   ]
  }
 ],
 "metadata": {
  "kernelspec": {
   "display_name": "SUND",
   "language": "python",
   "name": "python3"
  },
  "language_info": {
   "codemirror_mode": {
    "name": "ipython",
    "version": 3
   },
   "file_extension": ".py",
   "mimetype": "text/x-python",
   "name": "python",
   "nbconvert_exporter": "python",
   "pygments_lexer": "ipython3",
   "version": "3.11.8"
  }
 },
 "nbformat": 4,
 "nbformat_minor": 2
}
