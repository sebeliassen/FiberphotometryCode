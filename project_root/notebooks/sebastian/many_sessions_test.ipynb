{
 "cells": [
  {
   "cell_type": "code",
   "execution_count": 4,
   "metadata": {},
   "outputs": [
    {
     "name": "stdout",
     "output_type": "stream",
     "text": [
      "The autoreload extension is already loaded. To reload it, use:\n",
      "  %reload_ext autoreload\n"
     ]
    }
   ],
   "source": [
    "%load_ext autoreload\n",
    "%autoreload 2"
   ]
  },
  {
   "cell_type": "code",
   "execution_count": 5,
   "metadata": {},
   "outputs": [],
   "source": [
    "import sys\n",
    "sys.path.append('../../')\n",
    "\n",
    "#from main import load_and_prepare_sessions\n",
    "import create_cpt_sessions\n",
    "import create_oft_sessions\n",
    "import config\n",
    "from processing.combine_session_timestamps import update_phot_dfs_with_timestamps \n",
    "import pickle"
   ]
  },
  {
   "cell_type": "code",
   "execution_count": null,
   "metadata": {},
   "outputs": [
    {
     "name": "stderr",
     "output_type": "stream",
     "text": [
      "100%|██████████| 20/20 [00:29<00:00,  1.47s/it]\n"
     ]
    }
   ],
   "source": [
    "sam_prefix = \"/Volumes/SUN-IN-Neuropharm/Common/Lab member folder/Sam/dLight_CPT_thesis_cohort/fiberPhotometryAnalysis/dLight_CPTPhotometry/Raw Data\"\n",
    "baseline_path = f'{sam_prefix}/Baseline'\n",
    "\n",
    "#cpt_sessions = create_cpt_sessions.create_pickle(baseline_path, None)\n",
    "cpt_sessions = create_cpt_sessions.create_pickle(\"/tmp/Baseline\", f'{baseline_path}/sessions.pkl', overwrite=True)"
   ]
  },
  {
   "cell_type": "code",
   "execution_count": null,
   "metadata": {},
   "outputs": [],
   "source": [
    "with open(f\"{baseline_path}/session_updated.pickle\", \"wb\") as f:\n",
    "    pickle.dump(cpt_sessions, f)\n",
    "    "
   ]
  },
  {
   "cell_type": "code",
   "execution_count": null,
   "metadata": {},
   "outputs": [
    {
     "name": "stderr",
     "output_type": "stream",
     "text": [
      "100%|██████████| 13/13 [00:13<00:00,  1.06s/it]\n"
     ]
    }
   ],
   "source": [
    "oft_sessions = create_oft_sessions.create_pickle('../../../GqCoh1And2_OFT/First Test Round', None)"
   ]
  },
  {
   "cell_type": "code",
   "execution_count": 8,
   "metadata": {},
   "outputs": [],
   "source": [
    "phot_df = oft_sessions[0].dfs.data['phot_470']"
   ]
  },
  {
   "cell_type": "code",
   "execution_count": 11,
   "metadata": {},
   "outputs": [],
   "source": [
    "phot_cols = phot_df.columns"
   ]
  },
  {
   "cell_type": "code",
   "execution_count": 28,
   "metadata": {},
   "outputs": [
    {
     "data": {
      "text/plain": [
       "'mPFC'"
      ]
     },
     "execution_count": 28,
     "metadata": {},
     "output_type": "execute_result"
    }
   ],
   "source": [
    "phot_cols[-1][0]"
   ]
  },
  {
   "cell_type": "code",
   "execution_count": 31,
   "metadata": {},
   "outputs": [
    {
     "name": "stdout",
     "output_type": "stream",
     "text": [
      "144683\n",
      "144683\n",
      "140455\n",
      "140455\n",
      "138186\n",
      "138186\n",
      "137370\n",
      "137370\n",
      "140020\n",
      "140020\n",
      "145837\n",
      "145837\n",
      "147757\n",
      "147757\n",
      "167229\n",
      "167229\n",
      "157145\n",
      "157145\n",
      "157380\n",
      "157380\n",
      "155232\n",
      "155232\n",
      "146768\n",
      "146768\n",
      "144483\n",
      "144483\n"
     ]
    }
   ],
   "source": [
    "for session in oft_sessions:\n",
    "    phot_df = session.dfs.data['phot_470']\n",
    "    phot_cols = phot_df.columns\n",
    "    print(len(phot_df))\n",
    "    "
   ]
  },
  {
   "cell_type": "code",
   "execution_count": null,
   "metadata": {},
   "outputs": [],
   "source": []
  }
 ],
 "metadata": {
  "kernelspec": {
   "display_name": "sund",
   "language": "python",
   "name": "python3"
  },
  "language_info": {
   "codemirror_mode": {
    "name": "ipython",
    "version": 3
   },
   "file_extension": ".py",
   "mimetype": "text/x-python",
   "name": "python",
   "nbconvert_exporter": "python",
   "pygments_lexer": "ipython3",
   "version": "3.11.8"
  }
 },
 "nbformat": 4,
 "nbformat_minor": 2
}
