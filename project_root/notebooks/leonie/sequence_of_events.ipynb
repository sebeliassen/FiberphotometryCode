{
 "cells": [
  {
   "cell_type": "code",
   "execution_count": 47,
   "metadata": {},
   "outputs": [
    {
     "name": "stdout",
     "output_type": "stream",
     "text": [
      "The autoreload extension is already loaded. To reload it, use:\n",
      "  %reload_ext autoreload\n"
     ]
    }
   ],
   "source": [
    "%load_ext autoreload\n",
    "%autoreload 2\n",
    "\n",
    "import sys\n",
    "sys.path.append('../../')\n",
    "\n",
    "from main import load_and_prepare_sessions\n",
    "from processing.session_sampling import MiceAnalysis\n",
    "from data.mouse import create_mice_dict\n",
    "from plotting.main_plotting import plot_session_events_and_signal\n",
    "from analysis.timepoint_analysis import sample_signals_and_metrics, find_drug_split_x\n",
    "from itertools import product\n",
    "\n",
    "import plotly.graph_objects as go\n",
    "from plotly.subplots import make_subplots\n",
    "import numpy as np\n",
    "import scipy.stats as stats\n",
    "from tqdm.notebook import tqdm\n",
    "from collections import defaultdict\n",
    "\n",
    "import matplotlib.pyplot as plt\n",
    "\n",
    "import config\n",
    "\n",
    "sessions = load_and_prepare_sessions(\"../../../trial_Gq-DREADD_CPT\", load_from_pickle=True, remove_bad_signal_sessions=True)"
   ]
  },
  {
   "cell_type": "code",
   "execution_count": 48,
   "metadata": {},
   "outputs": [
    {
     "data": {
      "text/plain": [
       "{'CNO', 'No drug', 'Vehicle'}"
      ]
     },
     "execution_count": 48,
     "metadata": {},
     "output_type": "execute_result"
    }
   ],
   "source": [
    "set([session.drug_info['name'] for session in sessions])"
   ]
  },
  {
   "cell_type": "code",
   "execution_count": 49,
   "metadata": {},
   "outputs": [],
   "source": [
    "def update_genotypes(sessions, mice_gen_dict):\n",
    "    \"\"\"\n",
    "    Updates the genotypes for a list of sessions based on the provided genotype mapping.\n",
    "    Prints whether the genotypes are valid ('TH-Cre', 'Wildtype') \n",
    "    and the number of genotype changes made.\n",
    "\n",
    "    Parameters:\n",
    "    - sessions: A list of session objects to process.\n",
    "    - mice_gen_dict: A dictionary mapping mouse IDs to new genotypes.\n",
    "    \"\"\"\n",
    "    geno_mapping = {\n",
    "        \"Cre\": \"TH-Cre\",\n",
    "        \"WT\": \"Wildtype\"\n",
    "    }\n",
    "    # Map mice_gen_dict to use TH-Cre and Wildtype\n",
    "    mapped_genotypes = {k: geno_mapping[v] for k, v in mice_gen_dict.items()}\n",
    "    \n",
    "    # Initialize counters and trackers\n",
    "    valid_genotypes = {'TH-Cre', 'Wildtype'}\n",
    "    all_genotypes = set()\n",
    "    genotype_changes = 0\n",
    "\n",
    "    for session in sessions:\n",
    "        original_genotype = session.genotype\n",
    "        int_id = int(session.mouse_id)\n",
    "        \n",
    "        if int_id in mapped_genotypes:\n",
    "            session.genotype = mapped_genotypes[int_id]\n",
    "            # Count changes if the genotype was updated\n",
    "            if session.genotype != original_genotype:\n",
    "                genotype_changes += 1\n",
    "        \n",
    "        all_genotypes.add(session.genotype)\n",
    "    \n",
    "    # Print results\n",
    "    if all_genotypes.issubset(valid_genotypes):\n",
    "        print(f\"Valid genotypes found: {all_genotypes}\")\n",
    "    else:\n",
    "        print(f\"Invalid genotypes found: {all_genotypes}\")\n",
    "    \n",
    "    print(f\"Genotype changes made: {genotype_changes}\")\n",
    "\n",
    "mice_gen_dict = {\n",
    "    69: \"Cre\",\n",
    "    71: \"WT\",\n",
    "    73: \"Cre\",\n",
    "    75: \"WT\",\n",
    "    77: \"Cre\",\n",
    "    79: \"WT\",\n",
    "    85: \"WT\",\n",
    "    87: \"WT\",\n",
    "    135: \"WT\",\n",
    "    137: \"WT\",\n",
    "    139: \"Cre\",\n",
    "    133: \"WT\",\n",
    "    127: \"WT\",\n",
    "    125: \"WT\",\n",
    "    129: \"Cre\",\n",
    "    131: \"WT\",\n",
    "    143: \"Cre\",\n",
    "    145: \"WT\",\n",
    "    147: \"WT\",\n",
    "    157: \"Cre\",\n",
    "    159: \"Cre\",\n",
    "    161: \"WT\",\n",
    "    171: \"Cre\",\n",
    "    173: \"Cre\"\n",
    "}"
   ]
  },
  {
   "cell_type": "code",
   "execution_count": 50,
   "metadata": {},
   "outputs": [
    {
     "name": "stdout",
     "output_type": "stream",
     "text": [
      "Valid genotypes found: {'TH-Cre', 'Wildtype'}\n",
      "Genotype changes made: 2\n"
     ]
    }
   ],
   "source": [
    "update_genotypes(sessions, mice_gen_dict)"
   ]
  },
  {
   "cell_type": "code",
   "execution_count": 51,
   "metadata": {},
   "outputs": [],
   "source": [
    "for session in sessions:\n",
    "    for brain_region in session.brain_regions:\n",
    "        threshold_x = find_drug_split_x(session, brain_region)\n",
    "        brain_region = brain_region.split('_')[0]\n",
    "        for event in config.all_event_types:\n",
    "            curr_signal_info = session.signal_info.get((brain_region, event))\n",
    "            if curr_signal_info is None:\n",
    "                continue\n",
    "            signal_idx_ranges = curr_signal_info['signal_idx_ranges']\n",
    "\n",
    "            thresholds = np.array([((tup[0] + tup[1]) // 2) for tup in signal_idx_ranges])\n",
    "            curr_signal_info[\"is_above_threshold\"] = thresholds > threshold_x"
   ]
  },
  {
   "cell_type": "code",
   "execution_count": 52,
   "metadata": {},
   "outputs": [],
   "source": [
    "def pair_wise_idxs(raw_df, actions_attr_dict):\n",
    "    # Define events of interest including 'Display Image'\n",
    "    events_of_interest = list(actions_attr_dict.keys())\n",
    "\n",
    "    # Get raw data and filter for events of interest\n",
    "    item_df = raw_df[[\"Item_Name\"]]\n",
    "    filtered_df = item_df[item_df[\"Item_Name\"].isin(events_of_interest)].reset_index()\n",
    "\n",
    "    # Initialize defaultdict to store the pairs\n",
    "    event_pairs_dict = defaultdict(list)\n",
    "\n",
    "    # Iterate through the filtered_df row by row\n",
    "    for i in range(len(filtered_df) - 1):\n",
    "        current_event = filtered_df.at[i, \"Item_Name\"]\n",
    "        next_event = filtered_df.at[i + 1, \"Item_Name\"]\n",
    "        if current_event in events_of_interest and next_event in events_of_interest:\n",
    "            event_pairs_dict[(current_event, next_event)]\\\n",
    "                .append((filtered_df.at[i, \"index\"], filtered_df.at[i + 1, \"index\"]))\n",
    "\n",
    "    return event_pairs_dict"
   ]
  },
  {
   "cell_type": "code",
   "execution_count": 53,
   "metadata": {},
   "outputs": [],
   "source": [
    "def get_session_pair_signals(session, brain_region, dose, genotype, is_above=True):\n",
    "    signal_order = []\n",
    "    all_session_signals = []\n",
    "\n",
    "    for event in (['hit', 'miss', 'mistake', 'cor_reject']):\n",
    "        curr_signal_info = session.signal_info.get((brain_region, event))\n",
    "        if curr_signal_info is None:\n",
    "            continue\n",
    "        curr_ranges = curr_signal_info['signal_idx_ranges']\n",
    "\n",
    "        mask = curr_signal_info[\"is_above_threshold\"]\n",
    "        if not is_above:\n",
    "            mask = ~mask\n",
    "\n",
    "        len_before = sum(len(arr) for arr in all_session_signals)\n",
    "        all_session_signals.append(curr_signal_info['signal_matrix'][mask])\n",
    "        len_after = sum(len(arr) for arr in all_session_signals)\n",
    "\n",
    "        event_list = [event] * len(curr_ranges)\n",
    "        idx_list = range(len_before, len_after)\n",
    "        signal_order.extend(zip(curr_ranges, event_list, idx_list))\n",
    "\n",
    "    if len(signal_order) == 0:\n",
    "        return None\n",
    "    _, events, matrix_idx = zip(*sorted(signal_order, key=lambda x: x[0][0]))\n",
    "    signal_matrix = np.vstack(all_session_signals)[matrix_idx, :]\n",
    "\n",
    "    pair_dict = defaultdict(list)\n",
    "\n",
    "    for i in range(len(events) - 1):\n",
    "        curr_event = events[i]\n",
    "        next_event = events[i + 1]\n",
    "        #if next_event == 'hit':\n",
    "        pair_dict[(curr_event, next_event, brain_region, dose, genotype, is_above)].append(signal_matrix[i+1])\n",
    "\n",
    "    for k, v in pair_dict.items():\n",
    "        pair_dict[k] = np.vstack(v)\n",
    "\n",
    "    return pair_dict"
   ]
  },
  {
   "cell_type": "code",
   "execution_count": 54,
   "metadata": {},
   "outputs": [],
   "source": [
    "def get_sessions_pair_dict(sessions):\n",
    "    pair_dict = defaultdict(list)\n",
    "\n",
    "    for is_above in (True, False):\n",
    "        for session in sessions:\n",
    "            for brain_region in config.all_brain_regions:\n",
    "                for event in (['hit', 'miss', 'mistake', 'cor_reject']):\n",
    "                    if session.signal_info.get((brain_region, event)) is None:\n",
    "                            continue\n",
    "\n",
    "                    genotype = session.genotype\n",
    "                    dose = (session.drug_info['name'], session.drug_info['dose']) \n",
    "\n",
    "                    pair_dict_part = get_session_pair_signals(session, brain_region, genotype, dose, is_above)\n",
    "                    if pair_dict_part is None:\n",
    "                        continue\n",
    "                    for k, v in pair_dict_part.items():\n",
    "                        pair_dict[k].append(v)\n",
    "\n",
    "    for k, v in pair_dict.items():\n",
    "        pair_dict[k] = np.vstack(v)\n",
    "    \n",
    "    return pair_dict"
   ]
  },
  {
   "cell_type": "code",
   "execution_count": 55,
   "metadata": {},
   "outputs": [],
   "source": [
    "# for k, v in pair_dict.items():\n",
    "#     print(k, len(v), v.shape)"
   ]
  },
  {
   "cell_type": "code",
   "execution_count": 56,
   "metadata": {},
   "outputs": [],
   "source": [
    "brain_reg_to_color = {'LH': 'orange',\n",
    "                      'mPFC': 'cornflowerblue'}"
   ]
  },
  {
   "cell_type": "code",
   "execution_count": 45,
   "metadata": {},
   "outputs": [],
   "source": [
    "def preprocess_and_plot_signals(pair_dict, event_type, brain_region, genotype, dose, is_above, smoothing_len=10):\n",
    "    # Assuming all_signals is predefined\n",
    "    event1, event2 = event_type\n",
    "    signals = pair_dict[event1, event2, brain_region, genotype, dose, is_above]\n",
    "\n",
    "    interval_start = config.peak_interval_config[\"interval_start\"]\n",
    "    interval_end = config.peak_interval_config[\"interval_end\"]\n",
    "    fps = config.PLOTTING_CONFIG['cpt']['fps']\n",
    "    \n",
    "    xs = np.arange(-interval_start, interval_end) / fps\n",
    "    \n",
    "    # Smooth the mean signal\n",
    "    ys = np.mean(signals, axis=0)\n",
    "    window = np.ones(smoothing_len) / smoothing_len\n",
    "    ys = np.convolve(ys, window, 'same')\n",
    "\n",
    "    # Calculate the standard deviation of the mean\n",
    "    std_signal = np.std(signals, axis=0) / np.sqrt(len(signals))\n",
    "\n",
    "    # Use scipy.stats.norm.interval to get the 95% confidence interval\n",
    "    alpha = 0.95\n",
    "    ci_lower, ci_upper = stats.norm.interval(alpha, loc=ys, scale=std_signal)\n",
    "\n",
    "    # The lower and upper bounds\n",
    "    lb = ci_lower.min()\n",
    "    ub = ci_upper.max()\n",
    "\n",
    "    #ylim = (lb, ub)\n",
    "    if brain_region == 'LH':\n",
    "        plt.ylim(-.3, 0.5)\n",
    "    else:\n",
    "        plt.ylim(-0.25, 0.35)\n",
    "    \n",
    "    # Assuming brain_reg_to_color is predefined\n",
    "    color = brain_reg_to_color[brain_region]\n",
    "\n",
    "    plt.figure(dpi=300)\n",
    "    plt.plot(xs[100: -100], ys[100: -100], color=color, label='Mean Signal')\n",
    "    plt.fill_between(xs[100: -100], ci_lower[100: -100], ci_upper[100: -100], color=color, alpha=0.2, label='95% CI')\n",
    "    #plt.ylim(ylim)\n",
    "    plt.title(f'{event_type}, {brain_region}, {genotype}, {dose}, is above: {is_above}\\n(n = {len(signals)})')\n",
    "    plt.xlabel('Time (s)')\n",
    "    plt.ylabel('z-score')\n",
    "    plt.legend()\n",
    "    plt.grid()\n",
    "    # plt.savefig(f'{event1}_to_{event2}_{brain_region}_{genotype}_{dose}_{is_above}.png')\n",
    "    plt.close()"
   ]
  },
  {
   "cell_type": "code",
   "execution_count": 57,
   "metadata": {},
   "outputs": [],
   "source": [
    "def plot_all(sessions):\n",
    "    pair_dict = get_sessions_pair_dict(sessions)\n",
    "\n",
    "    for k in sorted([k for k in pair_dict.keys() if k is not None], key=lambda x: x[-3]):\n",
    "        event1, event2, br, genotype, dose, is_above = k\n",
    "        event = (event1, event2)\n",
    "        preprocess_and_plot_signals(pair_dict, event, br, genotype, dose, is_above)"
   ]
  },
  {
   "cell_type": "code",
   "execution_count": null,
   "metadata": {},
   "outputs": [
    {
     "name": "stderr",
     "output_type": "stream",
     "text": [
      "Exception ignored in: <bound method IPythonKernel._clean_thread_parent_frames of <ipykernel.ipkernel.IPythonKernel object at 0x1192cd4d0>>\n",
      "Traceback (most recent call last):\n",
      "  File \"/Users/fsp585/anaconda3/envs/sund/lib/python3.11/site-packages/ipykernel/ipkernel.py\", line 770, in _clean_thread_parent_frames\n",
      "    def _clean_thread_parent_frames(\n",
      "\n",
      "KeyboardInterrupt: \n"
     ]
    }
   ],
   "source": [
    "plot_all(sessions)"
   ]
  }
 ],
 "metadata": {
  "kernelspec": {
   "display_name": "sund",
   "language": "python",
   "name": "python3"
  },
  "language_info": {
   "codemirror_mode": {
    "name": "ipython",
    "version": 3
   },
   "file_extension": ".py",
   "mimetype": "text/x-python",
   "name": "python",
   "nbconvert_exporter": "python",
   "pygments_lexer": "ipython3",
   "version": "3.11.8"
  }
 },
 "nbformat": 4,
 "nbformat_minor": 2
}
