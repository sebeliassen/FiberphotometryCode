{
 "cells": [
  {
   "cell_type": "code",
   "execution_count": null,
   "metadata": {},
   "outputs": [],
   "source": [
    "%load_ext autoreload\n",
    "%autoreload 2\n",
    "\n",
    "import sys\n",
    "sys.path.append('../../')\n",
    "\n",
    "from main import load_and_prepare_sessions\n",
    "from processing.session_sampling import MiceAnalysis\n",
    "from data.mouse import create_mice_dict\n",
    "from plotting.main_plotting import plot_session_events_and_signal\n",
    "from analysis.timepoint_analysis import sample_signals_and_metrics\n",
    "from itertools import product\n",
    "\n",
    "import plotly.graph_objects as go\n",
    "from plotly.subplots import make_subplots\n",
    "import numpy as np\n",
    "import scipy.stats as stats\n",
    "from tqdm.notebook import tqdm\n",
    "from collections import defaultdict\n",
    "\n",
    "import config\n",
    "\n",
    "sessions = load_and_prepare_sessions(\"../../../Gq-DREADD-Projection-Spec_CPT\", load_from_pickle=True, remove_bad_signal_sessions=True)"
   ]
  },
  {
   "cell_type": "code",
   "execution_count": null,
   "metadata": {},
   "outputs": [],
   "source": [
    "import matplotlib.pyplot as plt\n",
    "import pickle"
   ]
  },
  {
   "cell_type": "code",
   "execution_count": null,
   "metadata": {},
   "outputs": [],
   "source": [
    "all_signal_groups = defaultdict(list)\n",
    "\n",
    "for session in sessions:\n",
    "    genotype = session.genotype\n",
    "    dose = session.drug_info['dose']\n",
    "    for brain_reg in session.brain_regions:\n",
    "        phot_df = session.df_container.data['photwrit_470']\n",
    "        phot_times = phot_df['SecFromZero_FP3002'].values\n",
    "        raw_df = session.df_container.data['raw']\n",
    "    \n",
    "        signal = phot_df[f'{brain_reg}_phot_zF']\n",
    "        blank_image_time = raw_df.iloc[session.cpt]['SecFromZero_FP3002']\n",
    "        cpt_start_signal_idx = np.searchsorted(phot_times, blank_image_time, side='left')\n",
    "\n",
    "        # Extract the desired slice and convert to a numpy array with shape (n, 1)\n",
    "        signal_array = signal.iloc[cpt_start_signal_idx- 20*60*10:cpt_start_signal_idx+36000].to_numpy()\n",
    "        curr_key = (genotype, dose, brain_reg)\n",
    "        all_signal_groups[curr_key].append(signal_array)\n",
    "        \n",
    "all_signal_groups = {k: np.stack(v) for k, v in all_signal_groups.items()}\n",
    "\n",
    "# with open('all_session_averages_1.pkl', 'wb') as file:\n",
    "#     # Dump the dictionary into the file\n",
    "#     pickle.dump(all_signal_groups, file)\n"
   ]
  },
  {
   "cell_type": "code",
   "execution_count": null,
   "metadata": {},
   "outputs": [],
   "source": [
    "def smooth_signal(signal, window_len=11):\n",
    "    window = np.ones(window_len) / window_len\n",
    "    return np.convolve(signal, window, mode='valid')\n",
    "\n",
    "\n",
    "# Parameters\n",
    "start_time = -10  # Start time in arbitrary units\n",
    "end_time = 30  # End time in arbitrary units\n",
    "smoothing_window = 101  # Smoothing window length\n",
    "\n",
    "for curr_key, data in all_signal_groups.items():\n",
    "    # Apply smoothing to the data\n",
    "    smoothed_data = np.apply_along_axis(smooth_signal, 1, data, window_len=smoothing_window)\n",
    "    \n",
    "    # Calculate the mean and standard error of the mean (SEM) across the first dimension\n",
    "    mean_signal = np.mean(smoothed_data, axis=0)\n",
    "    sem_signal = np.std(smoothed_data, axis=0) / np.sqrt(smoothed_data.shape[0])\n",
    "    \n",
    "    # Calculate the 95% confidence interval\n",
    "    ci_95 = 1.96 * sem_signal\n",
    "    \n",
    "    # Generate x-axis values\n",
    "    x_values = np.linspace(start_time, end_time, mean_signal.shape[0])\n",
    "    \n",
    "    # Plot the data with fill between for 95% CI\n",
    "    genotype, dose, brain_reg = curr_key\n",
    "\n",
    "    plt.figure(dpi=300)\n",
    "    plt.plot(x_values, mean_signal, label='mean signal')\n",
    "    plt.fill_between(x_values, mean_signal - ci_95, mean_signal + ci_95, alpha=0.5, label='ci 95%')\n",
    "    plt.axvline(x=0, color='grey', linestyle='--')\n",
    "    plt.title(f'genotype: {genotype}, dose: {dose}, brain_reg: {brain_reg}')\n",
    "    plt.xlabel('Time (Minutes)')\n",
    "    plt.ylabel('zF - score') \n",
    "    plt.legend()\n",
    "    plt.grid()\n",
    "\n",
    "    plt.savefig(f'{genotype}_{dose}_{brain_reg}_session_mean_Projection-Spec.png')\n",
    "    plt.show()"
   ]
  },
  {
   "cell_type": "code",
   "execution_count": null,
   "metadata": {},
   "outputs": [],
   "source": [
    "import matplotlib.pyplot as plt"
   ]
  },
  {
   "cell_type": "code",
   "execution_count": null,
   "metadata": {},
   "outputs": [],
   "source": [
    "# brain_reg_to_color = {'VS': 'purple',\n",
    "#                       'DMS': 'forestgreen',\n",
    "#                       'DLS': 'C0'}\n",
    "\n",
    "brain_reg_to_color = {'LH': 'orange',\n",
    "                      'mPFC': 'cornflowerblue'}"
   ]
  },
  {
   "cell_type": "code",
   "execution_count": null,
   "metadata": {},
   "outputs": [],
   "source": [
    "import pickle\n",
    "\n",
    "with open('all_signals_1.pickle', 'rb') as file:\n",
    "    # Load the data back into a Python object\n",
    "    all_signals_1 = pickle.load(file)\n",
    "\n",
    "with open('all_signals_2.pickle', 'rb') as file:\n",
    "    # Load the data back into a Python object\n",
    "    all_signals_2 = pickle.load(file)"
   ]
  },
  {
   "cell_type": "code",
   "execution_count": null,
   "metadata": {},
   "outputs": [],
   "source": [
    "all_signals_1[('hit', 'LH')].shape"
   ]
  },
  {
   "cell_type": "code",
   "execution_count": null,
   "metadata": {},
   "outputs": [],
   "source": [
    "all_signals = {}\n",
    "\n",
    "for k in all_signals_1.keys():\n",
    "    all_signals[k] = np.vstack([all_signals_1[k], all_signals_2[k]])"
   ]
  },
  {
   "cell_type": "code",
   "execution_count": null,
   "metadata": {},
   "outputs": [],
   "source": [
    "def preprocess_and_plot_signals(sessions, event_type, brain_region, smoothing_len=10):\n",
    "    # Assuming all_signals is predefined\n",
    "    signals = all_signals[(event_type, brain_region)]\n",
    "\n",
    "    interval_start = config.peak_interval_config[\"interval_start\"]\n",
    "    interval_end = config.peak_interval_config[\"interval_end\"]\n",
    "    fps = config.PLOTTING_CONFIG['fps']\n",
    "    \n",
    "    xs = np.arange(-interval_start, interval_end) / fps\n",
    "    \n",
    "    # Smooth the mean signal\n",
    "    ys = np.mean(signals, axis=0)\n",
    "    window = np.ones(smoothing_len) / smoothing_len\n",
    "    ys = np.convolve(ys, window, 'same')\n",
    "\n",
    "    # Calculate the standard deviation of the mean\n",
    "    std_signal = np.std(signals, axis=0) / np.sqrt(len(signals))\n",
    "\n",
    "    # Use scipy.stats.norm.interval to get the 95% confidence interval\n",
    "    alpha = 0.95\n",
    "    ci_lower, ci_upper = stats.norm.interval(alpha, loc=ys, scale=std_signal)\n",
    "\n",
    "    # The lower and upper bounds\n",
    "    lb = ci_lower.min()\n",
    "    ub = ci_upper.max()\n",
    "\n",
    "    ylim = (lb, ub)\n",
    "    \n",
    "    # Assuming brain_reg_to_color is predefined\n",
    "    color = brain_reg_to_color[brain_region]\n",
    "\n",
    "    plt.figure(dpi=300)\n",
    "    plt.plot(xs, ys, color=color, label='Mean Signal')\n",
    "    plt.fill_between(xs, ci_lower, ci_upper, color=color, alpha=0.2, label='95% CI')\n",
    "    plt.ylim(ylim)\n",
    "    plt.title(f'{event_type}, {brain_region}, (n = {len(signals)})')\n",
    "    plt.xlabel('Time (s)')\n",
    "    plt.ylabel('z-score')\n",
    "    plt.legend()\n",
    "    plt.grid()\n",
    "    plt.show()\n",
    "\n",
    "    # Save the figure locally\n",
    "    # filename = f'leonie_fig_{event_type}_{brain_region}.png'\n",
    "    # plt.savefig(filename)\n",
    "    # plt.show()\n",
    "\n",
    "# Example usage\n",
    "# Assuming sessions, config, all_signals, brain_reg_to_color are defined\n",
    "for event_type, brain_reg in product(config.all_event_types, config.all_brain_regions):\n",
    "    preprocess_and_plot_signals(sessions, event_type, brain_reg)"
   ]
  },
  {
   "cell_type": "code",
   "execution_count": null,
   "metadata": {},
   "outputs": [],
   "source": [
    "import pickle\n",
    "\n",
    "with open('all_signals_2.pickle', 'wb') as file:\n",
    "    # Pickle the dictionary and write it to the file\n",
    "    pickle.dump(all_signals, file)"
   ]
  }
 ],
 "metadata": {
  "kernelspec": {
   "display_name": "SUND",
   "language": "python",
   "name": "python3"
  },
  "language_info": {
   "codemirror_mode": {
    "name": "ipython",
    "version": 3
   },
   "file_extension": ".py",
   "mimetype": "text/x-python",
   "name": "python",
   "nbconvert_exporter": "python",
   "pygments_lexer": "ipython3",
   "version": "3.11.8"
  }
 },
 "nbformat": 4,
 "nbformat_minor": 2
}
