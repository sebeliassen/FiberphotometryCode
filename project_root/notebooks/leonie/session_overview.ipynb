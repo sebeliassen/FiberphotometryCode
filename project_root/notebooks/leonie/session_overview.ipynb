{
 "cells": [
  {
   "cell_type": "code",
   "execution_count": 3,
   "metadata": {},
   "outputs": [
    {
     "name": "stdout",
     "output_type": "stream",
     "text": [
      "The autoreload extension is already loaded. To reload it, use:\n",
      "  %reload_ext autoreload\n"
     ]
    }
   ],
   "source": [
    "%load_ext autoreload\n",
    "%autoreload 2\n",
    "\n",
    "import sys\n",
    "sys.path.append('../../')\n",
    "\n",
    "from main import load_and_prepare_sessions\n",
    "from processing.session_sampling import MiceAnalysis\n",
    "from data.mouse import create_mice_dict\n",
    "from plotting.main_plotting import plot_session_events_and_signal\n",
    "from analysis.timepoint_analysis import sample_signals_and_metrics\n",
    "from itertools import product\n",
    "\n",
    "import plotly.graph_objects as go\n",
    "from plotly.subplots import make_subplots\n",
    "from scipy.signal import savgol_filter\n",
    "import numpy as np\n",
    "import scipy.stats as stats\n",
    "from tqdm.notebook import tqdm\n",
    "from ipywidgets import FloatProgress\n",
    "\n",
    "import config\n",
    "\n",
    "sessions = load_and_prepare_sessions(\"../../../Gq-DREADD-Projection-Spec_CPT\", load_from_pickle=True, remove_bad_signal_sessions=True)\n",
    "#sessions = load_and_prepare_sessions(\"../../../635_and_637_CNO_Crossover\", load_from_pickle=False, remove_bad_signal_sessions=True, first_n_dirs=10)"
   ]
  },
  {
   "cell_type": "code",
   "execution_count": null,
   "metadata": {},
   "outputs": [],
   "source": [
    "for session in tqdm(sessions):\n",
    "    for brain_reg in session.brain_regions:\n",
    "        # Step 3: Create a Plotly figure object for subplots\n",
    "        # Adjust rows and cols based on your layout needs\n",
    "        fig = make_subplots(rows=1, cols=1)\n",
    "\n",
    "        title = f\"genotype: {session.genotype}, dose: {session.drug_info['dose']}, brain region: {brain_reg}\\\n",
    "            \\n{session.trial_id}\"\n",
    "        plot_session_events_and_signal(session, brain_reg, fig, row=1, col=1, title_suffix=title)\n",
    "        #fig.write_image(f\"{session.mouse_id}_{session.trial_id}_{brain_reg}.png\")\n",
    "        #fig.show()\n",
    "\n",
    "        #fig = make_subplots(rows=1, cols=1)\n",
    "\n",
    "        #plot_session_events_and_signal(session, brain_reg, fig, row=1, col=1, title_suffix=title, smooth=True)\n",
    "        #fig.write_image(f\"{session.mouse_id}_{session.trial_id}_{brain_reg}.png\")\n",
    "        fig.write_html(f\"{session.mouse_id}_{session.trial_id}_{brain_reg}_projection.html\")\n",
    "        fig.show()\n",
    "    \n"
   ]
  },
  {
   "cell_type": "code",
   "execution_count": null,
   "metadata": {},
   "outputs": [],
   "source": [
    "import matplotlib.pyplot as plt"
   ]
  },
  {
   "cell_type": "code",
   "execution_count": null,
   "metadata": {},
   "outputs": [],
   "source": [
    "# brain_reg_to_color = {'VS': 'purple',\n",
    "#                       'DMS': 'forestgreen',\n",
    "#                       'DLS': 'C0'}\n",
    "\n",
    "brain_reg_to_color = {'LH': 'orange',\n",
    "                      'mPFC': 'cornflowerblue'}"
   ]
  },
  {
   "cell_type": "code",
   "execution_count": null,
   "metadata": {},
   "outputs": [],
   "source": [
    "import pickle\n",
    "\n",
    "with open('all_signals_1.pickle', 'rb') as file:\n",
    "    # Load the data back into a Python object\n",
    "    all_signals_1 = pickle.load(file)\n",
    "\n",
    "with open('all_signals_2.pickle', 'rb') as file:\n",
    "    # Load the data back into a Python object\n",
    "    all_signals_2 = pickle.load(file)"
   ]
  },
  {
   "cell_type": "code",
   "execution_count": null,
   "metadata": {},
   "outputs": [],
   "source": [
    "all_signals_1[('hit', 'LH')].shape"
   ]
  },
  {
   "cell_type": "code",
   "execution_count": null,
   "metadata": {},
   "outputs": [],
   "source": [
    "all_signals = {}\n",
    "\n",
    "for k in all_signals_1.keys():\n",
    "    all_signals[k] = np.vstack([all_signals_1[k], all_signals_2[k]])"
   ]
  },
  {
   "cell_type": "code",
   "execution_count": null,
   "metadata": {},
   "outputs": [],
   "source": [
    "def preprocess_and_plot_signals(sessions, event_type, brain_region, smoothing_len=10):\n",
    "    # Assuming all_signals is predefined\n",
    "    signals = all_signals[(event_type, brain_region)]\n",
    "\n",
    "    interval_start = config.peak_interval_config[\"interval_start\"]\n",
    "    interval_end = config.peak_interval_config[\"interval_end\"]\n",
    "    fps = config.PLOTTING_CONFIG['fps']\n",
    "    \n",
    "    xs = np.arange(-interval_start, interval_end) / fps\n",
    "    \n",
    "    # Smooth the mean signal\n",
    "    ys = np.mean(signals, axis=0)\n",
    "    window = np.ones(smoothing_len) / smoothing_len\n",
    "    ys = np.convolve(ys, window, 'same')\n",
    "\n",
    "    # Calculate the standard deviation of the mean\n",
    "    std_signal = np.std(signals, axis=0) / np.sqrt(len(signals))\n",
    "\n",
    "    # Use scipy.stats.norm.interval to get the 95% confidence interval\n",
    "    alpha = 0.95\n",
    "    ci_lower, ci_upper = stats.norm.interval(alpha, loc=ys, scale=std_signal)\n",
    "\n",
    "    # The lower and upper bounds\n",
    "    lb = ci_lower.min()\n",
    "    ub = ci_upper.max()\n",
    "\n",
    "    ylim = (lb, ub)\n",
    "    \n",
    "    # Assuming brain_reg_to_color is predefined\n",
    "    color = brain_reg_to_color[brain_region]\n",
    "\n",
    "    plt.figure(dpi=300)\n",
    "    plt.plot(xs, ys, color=color, label='Mean Signal')\n",
    "    plt.fill_between(xs, ci_lower, ci_upper, color=color, alpha=0.2, label='95% CI')\n",
    "    plt.ylim(ylim)\n",
    "    plt.title(f'{event_type}, {brain_region}, (n = {len(signals)})')\n",
    "    plt.xlabel('Time (s)')\n",
    "    plt.ylabel('z-score')\n",
    "    plt.legend()\n",
    "    plt.grid()\n",
    "    plt.show()\n",
    "\n",
    "    # Save the figure locally\n",
    "    # filename = f'leonie_fig_{event_type}_{brain_region}.png'\n",
    "    # plt.savefig(filename)\n",
    "    # plt.show()\n",
    "\n",
    "# Example usage\n",
    "# Assuming sessions, config, all_signals, brain_reg_to_color are defined\n",
    "for event_type, brain_reg in product(config.all_event_types, config.all_brain_regions):\n",
    "    preprocess_and_plot_signals(sessions, event_type, brain_reg)"
   ]
  },
  {
   "cell_type": "code",
   "execution_count": null,
   "metadata": {},
   "outputs": [],
   "source": [
    "import pickle\n",
    "\n",
    "with open('all_signals_2.pickle', 'wb') as file:\n",
    "    # Pickle the dictionary and write it to the file\n",
    "    pickle.dump(all_signals, file)"
   ]
  }
 ],
 "metadata": {
  "kernelspec": {
   "display_name": "sund",
   "language": "python",
   "name": "python3"
  },
  "language_info": {
   "codemirror_mode": {
    "name": "ipython",
    "version": 3
   },
   "file_extension": ".py",
   "mimetype": "text/x-python",
   "name": "python",
   "nbconvert_exporter": "python",
   "pygments_lexer": "ipython3",
   "version": "3.11.8"
  }
 },
 "nbformat": 4,
 "nbformat_minor": 2
}
