{
 "cells": [
  {
   "cell_type": "code",
   "execution_count": 6,
   "metadata": {},
   "outputs": [
    {
     "name": "stdout",
     "output_type": "stream",
     "text": [
      "The autoreload extension is already loaded. To reload it, use:\n",
      "  %reload_ext autoreload\n"
     ]
    },
    {
     "ename": "FileNotFoundError",
     "evalue": "[Errno 2] No such file or directory: '../Dual_Sensor_CPT/Males_redo'",
     "output_type": "error",
     "traceback": [
      "\u001b[0;31m---------------------------------------------------------------------------\u001b[0m",
      "\u001b[0;31mFileNotFoundError\u001b[0m                         Traceback (most recent call last)",
      "Cell \u001b[0;32mIn[6], line 7\u001b[0m\n\u001b[1;32m      4\u001b[0m \u001b[38;5;28;01mimport\u001b[39;00m \u001b[38;5;21;01msys\u001b[39;00m\n\u001b[1;32m      5\u001b[0m sys\u001b[38;5;241m.\u001b[39mpath\u001b[38;5;241m.\u001b[39mappend(\u001b[38;5;124m'\u001b[39m\u001b[38;5;124m../../\u001b[39m\u001b[38;5;124m'\u001b[39m)\n\u001b[0;32m----> 7\u001b[0m \u001b[38;5;28;01mfrom\u001b[39;00m \u001b[38;5;21;01mmain\u001b[39;00m \u001b[38;5;28;01mimport\u001b[39;00m load_and_prepare_sessions\n\u001b[1;32m      8\u001b[0m \u001b[38;5;28;01mfrom\u001b[39;00m \u001b[38;5;21;01mprocessing\u001b[39;00m\u001b[38;5;21;01m.\u001b[39;00m\u001b[38;5;21;01msession_sampling\u001b[39;00m \u001b[38;5;28;01mimport\u001b[39;00m MiceAnalysis\n\u001b[1;32m      9\u001b[0m \u001b[38;5;28;01mfrom\u001b[39;00m \u001b[38;5;21;01manalysis\u001b[39;00m\u001b[38;5;21;01m.\u001b[39;00m\u001b[38;5;21;01mtimepoint_analysis\u001b[39;00m \u001b[38;5;28;01mimport\u001b[39;00m find_drug_split_x\n",
      "File \u001b[0;32m~/Desktop/GetherLabCode/FiberphotometryCode/project_root/notebooks/leonie/../../main.py:58\u001b[0m\n\u001b[1;32m     54\u001b[0m     assign_sessions_signal_info(sessions)\n\u001b[1;32m     55\u001b[0m     \u001b[38;5;28;01mreturn\u001b[39;00m sessions\n\u001b[0;32m---> 58\u001b[0m sessions \u001b[38;5;241m=\u001b[39m \u001b[43mload_and_prepare_sessions\u001b[49m\u001b[43m(\u001b[49m\u001b[38;5;124;43mf\u001b[39;49m\u001b[38;5;124;43m\"\u001b[39;49m\u001b[38;5;124;43m../Dual_Sensor_CPT/Males_redo\u001b[39;49m\u001b[38;5;124;43m\"\u001b[39;49m\u001b[43m,\u001b[49m\u001b[43m \u001b[49m\u001b[43mload_from_pickle\u001b[49m\u001b[38;5;241;43m=\u001b[39;49m\u001b[38;5;28;43;01mFalse\u001b[39;49;00m\u001b[43m,\u001b[49m\u001b[43m \u001b[49m\u001b[43mremove_bad_signal_sessions\u001b[49m\u001b[38;5;241;43m=\u001b[39;49m\u001b[38;5;28;43;01mTrue\u001b[39;49;00m\u001b[43m)\u001b[49m\n\u001b[1;32m     59\u001b[0m \u001b[38;5;66;03m# save sessions to pickle\u001b[39;00m\n\u001b[1;32m     60\u001b[0m \u001b[38;5;28;01mwith\u001b[39;00m \u001b[38;5;28mopen\u001b[39m(\u001b[38;5;124mf\u001b[39m\u001b[38;5;124m\"\u001b[39m\u001b[38;5;124m../Dual_Sensor_CPT_males.pickle\u001b[39m\u001b[38;5;124m\"\u001b[39m, \u001b[38;5;124m\"\u001b[39m\u001b[38;5;124mwb\u001b[39m\u001b[38;5;124m\"\u001b[39m) \u001b[38;5;28;01mas\u001b[39;00m f:\n",
      "File \u001b[0;32m~/Desktop/GetherLabCode/FiberphotometryCode/project_root/notebooks/leonie/../../main.py:39\u001b[0m, in \u001b[0;36mload_and_prepare_sessions\u001b[0;34m(baseline_dir, first_n_dirs, load_from_pickle, remove_bad_signal_sessions, pickle_name)\u001b[0m\n\u001b[1;32m     36\u001b[0m     \u001b[38;5;28;01mreturn\u001b[39;00m sessions\n\u001b[1;32m     38\u001b[0m \u001b[38;5;66;03m# load in sessions\u001b[39;00m\n\u001b[0;32m---> 39\u001b[0m sessions \u001b[38;5;241m=\u001b[39m \u001b[43mload_all_sessions\u001b[49m\u001b[43m(\u001b[49m\u001b[43mbaseline_dir\u001b[49m\u001b[43m,\u001b[49m\u001b[43m \u001b[49m\u001b[43mfirst_n_dirs\u001b[49m\u001b[43m,\u001b[49m\u001b[43m \u001b[49m\u001b[43mremove_bad_signal_sessions\u001b[49m\u001b[38;5;241;43m=\u001b[39;49m\u001b[43mremove_bad_signal_sessions\u001b[49m\u001b[43m)\u001b[49m\n\u001b[1;32m     41\u001b[0m \u001b[38;5;66;03m# rename columns of dfs\u001b[39;00m\n\u001b[1;32m     42\u001b[0m Renamer\u001b[38;5;241m.\u001b[39mrename_sessions_data(sessions, RENAME_PATTERNS)\n",
      "File \u001b[0;32m~/Desktop/GetherLabCode/FiberphotometryCode/project_root/notebooks/leonie/../../data/data_loading.py:140\u001b[0m, in \u001b[0;36mload_all_sessions\u001b[0;34m(baseline_dir, first_n_dirs, remove_bad_signal_sessions)\u001b[0m\n\u001b[1;32m    138\u001b[0m \u001b[38;5;28;01mdef\u001b[39;00m \u001b[38;5;21mload_all_sessions\u001b[39m(baseline_dir, first_n_dirs\u001b[38;5;241m=\u001b[39m\u001b[38;5;28;01mNone\u001b[39;00m, remove_bad_signal_sessions\u001b[38;5;241m=\u001b[39m\u001b[38;5;28;01mFalse\u001b[39;00m):\n\u001b[1;32m    139\u001b[0m     \u001b[38;5;66;03m# Get a list of all subdirectories within the baseline directory\u001b[39;00m\n\u001b[0;32m--> 140\u001b[0m     subdirs \u001b[38;5;241m=\u001b[39m [d \u001b[38;5;28;01mfor\u001b[39;00m d \u001b[38;5;129;01min\u001b[39;00m \u001b[43mos\u001b[49m\u001b[38;5;241;43m.\u001b[39;49m\u001b[43mlistdir\u001b[49m\u001b[43m(\u001b[49m\u001b[43mbaseline_dir\u001b[49m\u001b[43m)\u001b[49m \u001b[38;5;28;01mif\u001b[39;00m os\u001b[38;5;241m.\u001b[39mpath\u001b[38;5;241m.\u001b[39misdir(os\u001b[38;5;241m.\u001b[39mpath\u001b[38;5;241m.\u001b[39mjoin(baseline_dir, d))]\n\u001b[1;32m    142\u001b[0m     \u001b[38;5;66;03m# Sort the subdirectories based on the trial number\u001b[39;00m\n\u001b[1;32m    143\u001b[0m     sorted_subdirs \u001b[38;5;241m=\u001b[39m \u001b[38;5;28msorted\u001b[39m(subdirs, key\u001b[38;5;241m=\u001b[39msort_key_func)\n",
      "\u001b[0;31mFileNotFoundError\u001b[0m: [Errno 2] No such file or directory: '../Dual_Sensor_CPT/Males_redo'"
     ]
    }
   ],
   "source": [
    "%load_ext autoreload\n",
    "%autoreload 2\n",
    "\n",
    "import sys\n",
    "sys.path.append('../../')\n",
    "\n",
    "from main import load_and_prepare_sessions\n",
    "from processing.session_sampling import MiceAnalysis\n",
    "from analysis.timepoint_analysis import find_drug_split_x\n",
    "from itertools import product\n",
    "\n",
    "import numpy as np\n",
    "import scipy.stats as stats\n",
    "import matplotlib.pyplot as plt\n",
    "\n",
    "import config\n",
    "\n",
    "from collections import defaultdict\n",
    "import pickle\n",
    "\n",
    "\n",
    "\n",
    "sessions = load_and_prepare_sessions(\"../../../Gq-DREADD-Projection-Spec_CPT\", load_from_pickle=True, remove_bad_signal_sessions=True)\n",
    "mouse_analyser = MiceAnalysis(sessions)"
   ]
  },
  {
   "cell_type": "code",
   "execution_count": 15,
   "metadata": {},
   "outputs": [],
   "source": [
    "# brain_reg_to_color = {'VS': 'purple',\n",
    "#                       'DMS': 'forestgreen',\n",
    "#                       'DLS': 'C0'}\n",
    "\n",
    "brain_reg_to_color = {'LH': 'orange',\n",
    "                      'mPFC': 'cornflowerblue'}"
   ]
  },
  {
   "cell_type": "code",
   "execution_count": 16,
   "metadata": {},
   "outputs": [],
   "source": [
    "for session in sessions:\n",
    "    for brain_region in session.brain_regions:\n",
    "\n",
    "        # find the x position at which the injection peak has been passed within the trial\n",
    "        threshold_x = find_drug_split_x(session, brain_region)\n",
    "        brain_region = brain_region.split('_')[0]\n",
    "        for event in config.all_event_types:\n",
    "            curr_signal_info = session.signal_info.get((brain_region, event))\n",
    "            if curr_signal_info is None:\n",
    "                continue\n",
    "            signal_idx_ranges = curr_signal_info['signal_idx_ranges']\n",
    "\n",
    "            # find the middle position (0 seconds) of the given signal\n",
    "            thresholds = np.array([((tup[0] + tup[1]) // 2) for tup in signal_idx_ranges])\n",
    "\n",
    "            # if the 0 seconds position is later than threshold x, we know that the signal is past the injection peak\n",
    "            curr_signal_info[\"is_above_threshold\"] = thresholds > threshold_x"
   ]
  },
  {
   "cell_type": "code",
   "execution_count": 17,
   "metadata": {},
   "outputs": [],
   "source": [
    "all_signal_groups = defaultdict(list)\n",
    "\n",
    "for session in sessions:\n",
    "    genotype = session.genotype\n",
    "    dose = session.drug_info['dose']\n",
    "    for event in config.all_event_types:\n",
    "        for brain_region in config.all_brain_regions:\n",
    "            curr_signal_info = session.signal_info.get((brain_region, event))\n",
    "            if curr_signal_info is None:\n",
    "                continue\n",
    "            \n",
    "            curr_key = (genotype, dose, event, brain_region)\n",
    "\n",
    "            if dose is not None and genotype == 'TH-Cre':\n",
    "                is_above_threshold = curr_signal_info[\"is_above_threshold\"]\n",
    "\n",
    "                all_signal_groups[curr_key + (True, )].append(curr_signal_info['signal_matrix'][is_above_threshold])\n",
    "                all_signal_groups[curr_key + (False, )].append(curr_signal_info['signal_matrix'][~is_above_threshold])\n",
    "            else:\n",
    "                all_signal_groups[curr_key + (None, )].append(curr_signal_info['signal_matrix'])\n",
    "\n",
    "all_signal_groups = {k: np.vstack(v) for k, v in all_signal_groups.items() if len(v) != 0}\n",
    "all_signals = {k: v for k, v in all_signal_groups.items() if (len(v) != 0)}"
   ]
  },
  {
   "cell_type": "code",
   "execution_count": null,
   "metadata": {},
   "outputs": [],
   "source": [
    "def preprocess_and_plot_signals(key, dict, smoothing_len=10):\n",
    "    # Assuming all_signals is predefined\n",
    "    # signals = all_signals[(event_type, brain_region)]\n",
    "    signals = dict[key]\n",
    "    genotype, dose, event, brain_region, is_above_threshold = key\n",
    "\n",
    "    interval_start = config.peak_interval_config[\"interval_start\"]\n",
    "    interval_end = config.peak_interval_config[\"interval_end\"]\n",
    "    fps = config.PLOTTING_CONFIG['fps']\n",
    "    \n",
    "    xs = np.arange(-interval_start, interval_end) / fps\n",
    "    \n",
    "    # Smooth the mean signal\n",
    "    ys = np.mean(signals, axis=0)\n",
    "    window = np.ones(smoothing_len) / smoothing_len\n",
    "    ys = np.convolve(ys, window, 'same')\n",
    "\n",
    "    # Calculate the standard deviation of the mean\n",
    "    std_signal = np.std(signals, axis=0) / np.sqrt(len(signals))\n",
    "\n",
    "    # Use scipy.stats.norm.interval to get the 95% confidence interval\n",
    "    alpha = 0.95\n",
    "    ci_lower, ci_upper = stats.norm.interval(alpha, loc=ys, scale=std_signal)\n",
    "\n",
    "    # The lower and upper bounds\n",
    "    lb = ci_lower.min()\n",
    "    ub = ci_upper.max()\n",
    "\n",
    "    ylim = (lb, ub)\n",
    "    \n",
    "    # Assuming brain_reg_to_color is predefined\n",
    "    color = brain_reg_to_color[brain_region]\n",
    "\n",
    "    plt.figure(dpi=300)\n",
    "    plt.plot(xs, ys, color=color, label='Mean Signal')\n",
    "    plt.fill_between(xs, ci_lower, ci_upper, color=color, alpha=0.2, label='95% CI')\n",
    "    \n",
    "    # if brain_region == 'LH':\n",
    "    #     plt.ylim(-.3, 0.5)\n",
    "    # else:\n",
    "    #     plt.ylim(-0.25, 0.35)\n",
    "    plt.ylim(ylim)\n",
    "    if is_above_threshold == True:\n",
    "        threshold_text = 'above threshold,'\n",
    "    elif is_above_threshold == False:\n",
    "        threshold_text = 'below threshold,' \n",
    "    else:\n",
    "        threshold_text = '' \n",
    "\n",
    "    plt.title(f\"\"\"genotype: {genotype}, dose: {dose},\n",
    "              event: {event}, brain region: {brain_region}, {threshold_text}\n",
    "              (n={len(signals)})\"\"\")\n",
    "    plt.xlabel('Time (s)')\n",
    "    plt.ylabel('z-score')\n",
    "    plt.legend()\n",
    "    plt.grid()\n",
    "    \n",
    "    plt.tight_layout()\n",
    "    plt.savefig(f\"{genotype}_{dose}_{event}_{brain_region}_{threshold_text}_Projection-Spec.png\")\n",
    "    plt.show()\n",
    "\n",
    "    # Save the figure locall\n",
    "    # plt.show()\n",
    "\n",
    "# Example usage\n",
    "# Assuming sessions, config, all_signals, brain_reg_to_color are defined\n",
    "for k in all_signals.keys():\n",
    "    preprocess_and_plot_signals(k, all_signals, smoothing_len=10)"
   ]
  },
  {
   "cell_type": "code",
   "execution_count": 19,
   "metadata": {},
   "outputs": [],
   "source": [
    "# import pickle\n",
    "\n",
    "# with open('all_signals_2.pickle', 'wb') as file:\n",
    "#     # Pickle the dictionary and write it to the file\n",
    "#     pickle.dump(all_signals, file)"
   ]
  },
  {
   "cell_type": "code",
   "execution_count": null,
   "metadata": {},
   "outputs": [],
   "source": []
  }
 ],
 "metadata": {
  "kernelspec": {
   "display_name": "sund",
   "language": "python",
   "name": "python3"
  },
  "language_info": {
   "codemirror_mode": {
    "name": "ipython",
    "version": 3
   },
   "file_extension": ".py",
   "mimetype": "text/x-python",
   "name": "python",
   "nbconvert_exporter": "python",
   "pygments_lexer": "ipython3",
   "version": "3.11.8"
  }
 },
 "nbformat": 4,
 "nbformat_minor": 2
}
