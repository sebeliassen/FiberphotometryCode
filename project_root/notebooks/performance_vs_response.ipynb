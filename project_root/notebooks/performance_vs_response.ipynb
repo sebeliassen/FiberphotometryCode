{
 "cells": [
  {
   "cell_type": "code",
   "execution_count": null,
   "metadata": {},
   "outputs": [],
   "source": [
    "%load_ext autoreload\n",
    "%autoreload 2\n",
    "\n",
    "import sys\n",
    "sys.path.append('../')\n",
    "\n",
    "from main import load_and_prepare_sessions\n",
    "from analysis.performance_funcs import add_performance_container\n",
    "from analysis.response_metrics import assign_responses\n",
    "from processing.timepoint_analysis import aggregate_signals\n",
    "from data.mouse import create_mice_dict\n",
    "from data.data_loading import DataContainer\n",
    "from tqdm.notebook import tqdm\n",
    "\n",
    "from collections import defaultdict\n",
    "import matplotlib.pyplot as plt\n",
    "\n",
    "sessions = load_and_prepare_sessions(\"../../Baseline\", load_from_pickle=True, remove_bad_signal_sessions=True)"
   ]
  },
  {
   "cell_type": "code",
   "execution_count": null,
   "metadata": {},
   "outputs": [],
   "source": [
    "mice_dict = create_mice_dict(sessions)"
   ]
  },
  {
   "cell_type": "code",
   "execution_count": null,
   "metadata": {},
   "outputs": [],
   "source": [
    "for mouse in mice_dict.values():\n",
    "    add_performance_container(mouse)\n",
    "\n",
    "    for session in mouse.sessions:\n",
    "        session.metric_container = mouse.metric_container\n",
    "\n",
    "assign_responses(mice_dict.values())\n",
    "mouse_responses = {mouse.mouse_id: mouse.response_metrics for mouse in mice_dict.values()}"
   ]
  },
  {
   "cell_type": "code",
   "execution_count": null,
   "metadata": {},
   "outputs": [],
   "source": [
    "performance_metrics = {}\n",
    "for mouse_id, mouse in mice_dict.items():\n",
    "    performance_metrics[mouse_id] = mouse.metric_container.data"
   ]
  },
  {
   "cell_type": "code",
   "execution_count": null,
   "metadata": {},
   "outputs": [],
   "source": [
    "import pandas as pd"
   ]
  },
  {
   "cell_type": "code",
   "execution_count": null,
   "metadata": {},
   "outputs": [],
   "source": [
    "correlation_matrix = pd.DataFrame(index=mouse_responses.keys(), columns=performance_metrics.keys())"
   ]
  },
  {
   "cell_type": "code",
   "execution_count": null,
   "metadata": {},
   "outputs": [],
   "source": [
    "for d in mouse_responses.values():\n",
    "    print(d)"
   ]
  },
  {
   "cell_type": "code",
   "execution_count": null,
   "metadata": {},
   "outputs": [],
   "source": [
    "import numpy as np\n",
    "import scipy.stats\n",
    "\n",
    "# Assuming mouse_responses and performance_metrics_2 are structured as described:\n",
    "# mouse_responses = {mouse_id: {'response_metric_name1': value, ...}, ...}\n",
    "# performance_metrics_2 = {mouse_id: {'performance_metric_name1': value, ...}, ...}\n",
    "\n",
    "def calculate_correlations(mouse_responses, performance_metrics_2):\n",
    "    # Compile a comprehensive list of all unique response metric names across all mice\n",
    "    all_response_metric_names = set()\n",
    "    for metrics in mouse_responses.values():\n",
    "        all_response_metric_names.update(metrics.keys())\n",
    "\n",
    "    # List of all performance metric names (assuming these are consistent across all mice)\n",
    "    performance_metric_names = list(next(iter(performance_metrics_2.values())).keys())\n",
    "    \n",
    "    # Initialize a dictionary to store correlation results\n",
    "    correlation_results = {}\n",
    "\n",
    "    # Iterate over each unique pair of response and performance metrics\n",
    "    for response_metric in all_response_metric_names:\n",
    "        for performance_metric in performance_metric_names:\n",
    "            response_values, performance_values = [], []\n",
    "\n",
    "            # Collect values for the current pair of metrics across all mice\n",
    "            for mouse_id, response_metrics in mouse_responses.items():\n",
    "                response_value = response_metrics.get(response_metric)\n",
    "                performance_value = performance_metrics_2.get(mouse_id, {}).get(performance_metric)\n",
    "                \n",
    "                # Only include mice that have data for both the current response and performance metric\n",
    "                if response_value is not None and performance_value is not None:\n",
    "                    response_values.append(response_value)\n",
    "                    performance_values.append(performance_value)\n",
    "            \n",
    "            clean_response_values = []\n",
    "            clean_performance_values = []\n",
    "            for rv, pv in zip(response_values, performance_values):\n",
    "                if not (np.isnan(rv) or np.isnan(pv) or np.isinf(rv) or np.isinf(pv)):\n",
    "                    clean_response_values.append(rv)\n",
    "                    clean_performance_values.append(pv)\n",
    "\n",
    "\n",
    "            # Calculate correlation if both lists have values\n",
    "            if response_values and performance_values:\n",
    "                corr, p_val = scipy.stats.pearsonr(clean_response_values, clean_performance_values)\n",
    "                correlation_results[(response_metric, performance_metric)] = (corr, p_val)\n",
    "\n",
    "    return correlation_results\n",
    "\n",
    "correlation_results = calculate_correlations(mouse_responses, performance_metrics)\n",
    "\n",
    "# Print correlations\n",
    "for metric_pair, (corr_value, p_val) in correlation_results.items():\n",
    "    # if p_val <= 0.05:\n",
    "    print(f\"Correlation between '{metric_pair[0]}' and '{metric_pair[1]}': {corr_value:.4f}, {p_val:.4f}\")\n"
   ]
  },
  {
   "cell_type": "code",
   "execution_count": null,
   "metadata": {},
   "outputs": [],
   "source": [
    "data_for_df = []\n",
    "for (response_metric, performance_metric), corr_value in correlation_results.items():\n",
    "    data_for_df.append({\n",
    "        'Response Metric': response_metric,\n",
    "        'Performance Metric': performance_metric,\n",
    "        'Correlation': corr_value\n",
    "    })\n",
    "\n",
    "# Convert the list into a DataFrame\n",
    "df = pd.DataFrame(data_for_df)\n",
    "\n",
    "# Pivot the DataFrame to get response metrics as columns and performance metrics as rows\n",
    "pivot_df = df.pivot(index='Response Metric', columns='Performance Metric', values='Correlation')\n",
    "\n",
    "# Optionally, fill NaN values with zeros or any other value deemed appropriate\n",
    "# pivot_df.fillna(0, inplace=True)\n",
    "\n",
    "pivot_df"
   ]
  },
  {
   "cell_type": "code",
   "execution_count": null,
   "metadata": {},
   "outputs": [],
   "source": [
    "# # Reshape the DataFrame from wide to long format\n",
    "long_df = pivot_df.reset_index().melt(id_vars=['Response Metric'], var_name='Performance Metric', value_name='Correlation')\n",
    "\n",
    "# # Sort by the absolute value of the correlations to find the biggest ones, regardless of direction\n",
    "# sorted_df = long_df.reindex(long_df.Correlation.abs().sort_values(ascending=False, key=lambda t: t[-1]).index)\n",
    "\n",
    "# # Optionally, you can filter to show only the top N correlations\n",
    "# sorted_df\n",
    "\n",
    "# sorted_df.to_csv(\"all_correlations.csv\")\n",
    "\n",
    "# Your initial transformation is good, creating new columns for absolute correlation values and p-values\n",
    "long_df['Correlation_abs'] = long_df['Correlation'].apply(lambda x: abs(x[0]))\n",
    "long_df['P_value'] = long_df['Correlation'].apply(lambda x: x[1])\n",
    "\n",
    "# Now, sort by 'Correlation_abs' in descending order and then by 'P_value' in ascending order\n",
    "sorted_df = long_df.sort_values(by=['P_value'], ascending=True)\n",
    "\n",
    "# This will give you a DataFrame sorted by the absolute correlation values first, and then by p-values where correlations are equal or nearly equal.\n"
   ]
  },
  {
   "cell_type": "code",
   "execution_count": null,
   "metadata": {},
   "outputs": [],
   "source": [
    "sorted_df"
   ]
  },
  {
   "cell_type": "code",
   "execution_count": null,
   "metadata": {},
   "outputs": [],
   "source": [
    "sorted_df.drop(columns=['Correlation', 'Correlation_abs']).to_csv('all_correlations_3.csv')"
   ]
  },
  {
   "cell_type": "code",
   "execution_count": null,
   "metadata": {},
   "outputs": [],
   "source": []
  }
 ],
 "metadata": {
  "kernelspec": {
   "display_name": "SUND",
   "language": "python",
   "name": "python3"
  },
  "language_info": {
   "codemirror_mode": {
    "name": "ipython",
    "version": 3
   },
   "file_extension": ".py",
   "mimetype": "text/x-python",
   "name": "python",
   "nbconvert_exporter": "python",
   "pygments_lexer": "ipython3",
   "version": "3.11.5"
  }
 },
 "nbformat": 4,
 "nbformat_minor": 2
}
