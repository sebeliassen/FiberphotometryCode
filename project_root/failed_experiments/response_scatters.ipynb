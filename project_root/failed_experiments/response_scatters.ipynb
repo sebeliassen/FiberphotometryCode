{
 "cells": [
  {
   "cell_type": "code",
   "execution_count": 3,
   "metadata": {},
   "outputs": [
    {
     "name": "stdout",
     "output_type": "stream",
     "text": [
      "The autoreload extension is already loaded. To reload it, use:\n",
      "  %reload_ext autoreload\n"
     ]
    }
   ],
   "source": [
    "%load_ext autoreload\n",
    "%autoreload 2\n",
    "\n",
    "import sys\n",
    "sys.path.append('../')\n",
    "\n",
    "from main import load_and_prepare_sessions\n",
    "from analysis.performance_funcs import add_performance_container\n",
    "from analysis.response_metrics import assign_responses\n",
    "from processing.timepoint_analysis import aggregate_signals\n",
    "from data.mouse import create_mice_dict\n",
    "from data.data_loading import DataContainer\n",
    "\n",
    "\n",
    "from collections import defaultdict\n",
    "import matplotlib.pyplot as plt\n",
    "\n",
    "sessions = load_and_prepare_sessions(\"../../Baseline\", load_from_pickle=True, remove_bad_signal_sessions=True)"
   ]
  },
  {
   "cell_type": "code",
   "execution_count": 4,
   "metadata": {},
   "outputs": [],
   "source": [
    "mice_dict = create_mice_dict(sessions)"
   ]
  },
  {
   "cell_type": "code",
   "execution_count": 5,
   "metadata": {},
   "outputs": [
    {
     "name": "stderr",
     "output_type": "stream",
     "text": [
      "100%|██████████| 17/17 [00:09<00:00,  1.74it/s]\n"
     ]
    }
   ],
   "source": [
    "for mouse in mice_dict.values():\n",
    "    add_performance_container(mouse)\n",
    "\n",
    "    for session in mouse.sessions:\n",
    "        session.metric_container = mouse.metric_container\n",
    "\n",
    "assign_responses(mice_dict.values())\n",
    "mouse_responses = {mouse.mouse_id: mouse.response_metrics for mouse in mice_dict.values()}"
   ]
  },
  {
   "cell_type": "code",
   "execution_count": 6,
   "metadata": {},
   "outputs": [],
   "source": [
    "performance_metrics = {}\n",
    "for mouse_id, mouse in mice_dict.items():\n",
    "    performance_metrics[mouse_id] = mouse.metric_container.data"
   ]
  },
  {
   "cell_type": "code",
   "execution_count": 7,
   "metadata": {},
   "outputs": [],
   "source": [
    "#mouse_responses, performance_metrics"
   ]
  },
  {
   "cell_type": "code",
   "execution_count": 8,
   "metadata": {},
   "outputs": [
    {
     "data": {
      "text/plain": [
       "dict_keys(['DMS_hit_slope_up', 'DMS_hit_slope_down', 'DMS_hit_maximal_value', 'DMS_hit_peak_timing', 'DMS_hit_auc', 'DMS_mistake_slope_up', 'DMS_mistake_slope_down', 'DMS_mistake_maximal_value', 'DMS_mistake_peak_timing', 'DMS_mistake_auc', 'DMS_miss_slope_up', 'DMS_miss_slope_down', 'DMS_miss_maximal_value', 'DMS_miss_peak_timing', 'DMS_miss_auc', 'DMS_cor_reject_slope_up', 'DMS_cor_reject_slope_down', 'DMS_cor_reject_maximal_value', 'DMS_cor_reject_peak_timing', 'DMS_cor_reject_auc', 'DMS_reward_collect_slope_up', 'DMS_reward_collect_slope_down', 'DMS_reward_collect_maximal_value', 'DMS_reward_collect_peak_timing', 'DMS_reward_collect_auc', 'DLS_hit_slope_up', 'DLS_hit_slope_down', 'DLS_hit_maximal_value', 'DLS_hit_peak_timing', 'DLS_hit_auc', 'DLS_mistake_slope_up', 'DLS_mistake_slope_down', 'DLS_mistake_maximal_value', 'DLS_mistake_peak_timing', 'DLS_mistake_auc', 'DLS_miss_slope_up', 'DLS_miss_slope_down', 'DLS_miss_maximal_value', 'DLS_miss_peak_timing', 'DLS_miss_auc', 'DLS_cor_reject_slope_up', 'DLS_cor_reject_slope_down', 'DLS_cor_reject_maximal_value', 'DLS_cor_reject_peak_timing', 'DLS_cor_reject_auc', 'DLS_reward_collect_slope_up', 'DLS_reward_collect_slope_down', 'DLS_reward_collect_maximal_value', 'DLS_reward_collect_peak_timing', 'DLS_reward_collect_auc'])"
      ]
     },
     "execution_count": 8,
     "metadata": {},
     "output_type": "execute_result"
    }
   ],
   "source": [
    "mouse_responses['23'].keys()"
   ]
  },
  {
   "cell_type": "code",
   "execution_count": 28,
   "metadata": {},
   "outputs": [],
   "source": [
    "xs = []\n",
    "ys = []\n",
    "\n",
    "for mouse_id, mouse in mice_dict.items():\n",
    "    # DLS_hit_slope_down\n",
    "    try:\n",
    "        xs.append(mouse_responses[mouse_id]['VS_mistake_slope_down'])\n",
    "    except KeyError:\n",
    "        continue\n",
    "    ys.append(performance_metrics[mouse_id]['total_hits'])"
   ]
  },
  {
   "cell_type": "code",
   "execution_count": 29,
   "metadata": {},
   "outputs": [
    {
     "data": {
      "text/plain": [
       "<matplotlib.collections.PathCollection at 0x13177bc10>"
      ]
     },
     "execution_count": 29,
     "metadata": {},
     "output_type": "execute_result"
    },
    {
     "data": {
      "image/png": "[encoded data removed]",
      "text/plain": [
       "<Figure size 640x480 with 1 Axes>"
      ]
     },
     "metadata": {},
     "output_type": "display_data"
    }
   ],
   "source": [
    "plt.scatter(xs, ys)"
   ]
  },
  {
   "cell_type": "code",
   "execution_count": null,
   "metadata": {},
   "outputs": [],
   "source": []
  }
 ],
 "metadata": {
  "kernelspec": {
   "display_name": "SUND",
   "language": "python",
   "name": "python3"
  },
  "language_info": {
   "codemirror_mode": {
    "name": "ipython",
    "version": 3
   },
   "file_extension": ".py",
   "mimetype": "text/x-python",
   "name": "python",
   "nbconvert_exporter": "python",
   "pygments_lexer": "ipython3",
   "version": "3.11.5"
  }
 },
 "nbformat": 4,
 "nbformat_minor": 2
}
